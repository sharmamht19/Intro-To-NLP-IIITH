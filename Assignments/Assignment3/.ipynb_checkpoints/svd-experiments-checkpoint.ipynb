{
 "cells": [
  {
   "cell_type": "code",
   "execution_count": 7,
   "id": "87e3d6e2",
   "metadata": {},
   "outputs": [],
   "source": [
    "import pandas as pd\n",
    "import torch\n",
    "import torch.nn as nn\n",
    "import torch.optim as optim\n",
    "from torch.utils.data import DataLoader, Dataset\n",
    "from sklearn.feature_extraction.text import CountVectorizer\n",
    "from scipy.sparse import coo_matrix as cm\n",
    "from sklearn.model_selection import train_test_split\n",
    "from sklearn.metrics import accuracy_score,precision_score, recall_score, f1_score, confusion_matrix\n",
    "import numpy as np\n",
    "import pickle\n",
    "from tqdm import tqdm\n",
    "from sklearn.decomposition import TruncatedSVD\n",
    "from tqdm import tqdm\n",
    "import torch.nn.functional as F\n",
    "import re\n",
    "import matplotlib.pyplot as plt"
   ]
  },
  {
   "cell_type": "code",
   "execution_count": 2,
   "id": "03d406cb",
   "metadata": {},
   "outputs": [],
   "source": [
    "class SVDWordVectors:\n",
    "    def __init__(self, train_file, num_samples=10000, k=100, save_path='svd_word_vectors.pt', context_size=2):\n",
    "        self.train_file = train_file\n",
    "        self.num_samples = num_samples\n",
    "        self.k = k\n",
    "        self.save_path = save_path\n",
    "        self.context_size = context_size\n",
    "        self.word_vectors = None\n",
    "        self.vectorizer = None\n",
    "        self.vocabulary = None\n",
    "        self.word_to_index = None  # Mapping from word to index\n",
    "        self.unknown_token = '<UNK>'\n",
    "        self.unknown_vector = None  # Initialize unknown vector\n",
    "\n",
    "    def load_dataset(self, file_path, num_samples=None):\n",
    "        if num_samples:\n",
    "            data = pd.read_csv(file_path, nrows=num_samples)\n",
    "        else:\n",
    "            data = pd.read_csv(file_path)\n",
    "        return data\n",
    "\n",
    "    def preprocess_data(self, data):\n",
    "        corpus = data['Description']\n",
    "        return corpus\n",
    "\n",
    "    def build_co_occurrence_matrix(self, corpus):\n",
    "        self.vectorizer = CountVectorizer()\n",
    "        X = self.vectorizer.fit_transform(corpus)\n",
    "        num_words = len(self.vectorizer.vocabulary_)\n",
    "\n",
    "        co_occurrence_matrix = np.zeros((num_words, num_words), dtype=np.int32)\n",
    "\n",
    "        for doc in corpus:\n",
    "            tokens = doc.split()\n",
    "            for i, target_word in enumerate(tokens):\n",
    "                target_index = self.vectorizer.vocabulary_.get(target_word)\n",
    "                if target_index is None:\n",
    "                    continue\n",
    "\n",
    "                # Iterate over the context window around the target word\n",
    "                for j in range(max(0, i - self.context_size), min(len(tokens), i + self.context_size + 1)):\n",
    "                    if j != i:\n",
    "                        context_word = tokens[j]\n",
    "                        context_index = self.vectorizer.vocabulary_.get(context_word)\n",
    "                        if context_index is not None:\n",
    "                            co_occurrence_matrix[target_index, context_index] += 1\n",
    "\n",
    "        coo_matrix = cm(co_occurrence_matrix)\n",
    "\n",
    "        self.vocabulary = self.vectorizer.vocabulary_\n",
    "        self.vocabulary[self.unknown_token] = len(self.vocabulary)\n",
    "\n",
    "        self.unknown_vector = torch.zeros(self.k)\n",
    "\n",
    "        print(\"Size of CountVectorizer vocabulary:\", len(self.vocabulary))\n",
    "        print(\"Shape of X matrix:\", X.shape)\n",
    "        print(\"Shape of co-occurrence matrix (coo_matrix):\", coo_matrix.shape)\n",
    "        print(\"Shape of unknown vector:\", self.unknown_vector.shape)\n",
    "\n",
    "        return coo_matrix\n",
    "\n",
    "    def apply_svd(self, coo_matrix):\n",
    "        svd = TruncatedSVD(self.k, n_iter=10)\n",
    "        word_vectors_svd = svd.fit_transform(coo_matrix)\n",
    "        return word_vectors_svd\n",
    "\n",
    "    def train(self):\n",
    "        data = self.load_dataset(self.train_file, self.num_samples)\n",
    "        corpus = self.preprocess_data(data)\n",
    "        coo_matrix = self.build_co_occurrence_matrix(corpus)\n",
    "        self.word_vectors = self.apply_svd(coo_matrix)\n",
    "        self.word_vectors = torch.tensor(self.word_vectors)  # Convert numpy array to PyTorch tensor\n",
    "        self.word_vectors = torch.cat((self.word_vectors, self.unknown_vector.unsqueeze(0)), dim=0)\n",
    "        self.word_vectors = self.word_vectors.to(torch.float32)  # Convert tensor to torch.float32\n",
    "\n",
    "        # Create mapping from word to index\n",
    "        self.word_to_index = {word: idx for word, idx in self.vocabulary.items()}\n",
    "\n",
    "        self.save_word_vectors(self.word_vectors, self.word_to_index)  # Save both word vectors and mapping\n",
    "\n",
    "    def save_word_vectors(self, word_vectors, word_to_index):\n",
    "        # Save both word vectors and mapping\n",
    "        torch.save({'word_vectors': word_vectors, 'word_to_idx': word_to_index}, self.save_path)\n",
    "\n",
    "    def load_word_vectors(self):\n",
    "        # Load both word vectors and mapping\n",
    "        checkpoint = torch.load(self.save_path)\n",
    "        self.word_vectors = checkpoint['word_vectors']\n",
    "        self.word_to_index = checkpoint['word_to_idx']\n"
   ]
  },
  {
   "cell_type": "code",
   "execution_count": 4,
   "id": "cd37c3b3",
   "metadata": {},
   "outputs": [],
   "source": [
    "class SVDTextDataProcessor:\n",
    "    def __init__(self, word_vectors=None, word_to_idx=None, idx_to_word=None):\n",
    "        self.word_vectors = word_vectors\n",
    "        self.word_to_idx = word_to_idx\n",
    "\n",
    "    def load_dataset(self, file_path, num_samples=None, reduce_label=True):\n",
    "        if num_samples:\n",
    "            data = pd.read_csv(file_path, nrows=num_samples)\n",
    "        else:\n",
    "            data = pd.read_csv(file_path)\n",
    "\n",
    "        if reduce_label and 'Class Index' in data.columns:\n",
    "            data['Class Index'] -= 1  # Reduce 1 from each label\n",
    "\n",
    "        return data\n",
    "\n",
    "    def preprocess_data(self, data, text_column='Description', label_column='Class Index'):\n",
    "        corpus = data[text_column]\n",
    "        labels = data[label_column] if label_column in data.columns else None\n",
    "        return corpus, labels\n",
    "\n",
    "    def load_word_vectors(self, file_path):\n",
    "        saved_data = torch.load(file_path)\n",
    "        self.word_vectors = saved_data['word_vectors']\n",
    "        self.word_to_idx = saved_data['word_to_idx']\n",
    "\n",
    "    def get_word_embedding(self, word):\n",
    "        if self.word_to_idx is not None and self.word_vectors is not None:\n",
    "            if word in self.word_to_idx:\n",
    "                idx = self.word_to_idx[word]\n",
    "                return self.word_vectors[idx]\n",
    "            else:\n",
    "                unk_index = self.word_to_idx.get('<UNK>')\n",
    "                return self.word_vectors[unk_index]\n",
    "        else:\n",
    "            raise ValueError(\"Word vectors and vocabulary mappings are not loaded.\")\n",
    "\n",
    "    def get_sentence_embeddings(self, sentence):\n",
    "        tokens = re.findall(r'\\b\\w+\\b', sentence.lower())\n",
    "        sentence_embeddings = []\n",
    "        for word in tokens:\n",
    "            word_embedding = self.get_word_embedding(word)\n",
    "            sentence_embeddings.append(word_embedding)\n",
    "        sentence_embeddings = torch.tensor(np.array(sentence_embeddings))\n",
    "        return sentence_embeddings\n",
    "\n",
    "    def preprocess_dataset(self, data, batch_size=1):\n",
    "        corpus, labels = self.preprocess_data(data)\n",
    "        dataset = []\n",
    "        for sentence in corpus:\n",
    "            sentence_embeddings = self.get_sentence_embeddings(sentence)\n",
    "            dataset.append(sentence_embeddings)\n",
    "        labels_tensor = torch.tensor(labels)\n",
    "        combined_data = list(zip(dataset, labels_tensor))\n",
    "        train_dataloader = DataLoader(combined_data, batch_size=batch_size, shuffle=False)\n",
    "        return train_dataloader\n",
    "\n",
    "\n",
    "class Model(nn.Module):\n",
    "    def __init__(self, input_size, hidden_size, output_size):\n",
    "        super(Model, self).__init__()\n",
    "        self.recurrent_layer = nn.RNN(input_size, hidden_size, batch_first=True)\n",
    "        self.fc_layer = nn.Linear( hidden_size, output_size)\n",
    "\n",
    "    def forward(self, input_seq):\n",
    "        # Forward pass through the RNN\n",
    "        recurrent_output, _ = self.recurrent_layer(input_seq)\n",
    "        \n",
    "        # Extract the last hidden state\n",
    "        last_hidden_state = recurrent_output[:, -1, :]\n",
    "        \n",
    "        # Pass the last hidden state through the fully connected layer\n",
    "        logits = self.fc_layer(last_hidden_state)\n",
    "        \n",
    "        return logits\n",
    "    \n",
    "    def predict(self, logits):\n",
    "        \n",
    "        # Apply argmax to get the index of the highest logit\n",
    "        predicted_class_index = torch.argmax(logits).item()\n",
    "        \n",
    "        return predicted_class_index\n",
    "\n",
    "class Classifier:\n",
    "    def __init__(self, input_size, hidden_size, output_size, num_epochs=10, lr=0.001):\n",
    "        self.device = torch.device(\"cuda\" if torch.cuda.is_available() else \"cpu\")\n",
    "        self.num_epochs = num_epochs\n",
    "\n",
    "        self.model = Model(input_size, hidden_size, output_size).to(self.device)\n",
    "\n",
    "        self.criterion = nn.CrossEntropyLoss()\n",
    "        self.optimizer = optim.Adam(self.model.parameters(), lr=lr)\n",
    "\n",
    "    def train(self, train_data, model_save_path):\n",
    "        self.model.train()\n",
    "        epoch_losses = []\n",
    "        epoch_accuracies = []\n",
    "\n",
    "        for epoch in range(self.num_epochs):\n",
    "            running_loss = 0.0\n",
    "            train_data_with_progress = tqdm(train_data, desc=f'Epoch {epoch+1}/{self.num_epochs}')\n",
    "            predictions = []\n",
    "            labels_list = []\n",
    "            for inputs, label in train_data_with_progress:\n",
    "                inputs, label = inputs.to(self.device), label.to(self.device)\n",
    "\n",
    "                self.optimizer.zero_grad()\n",
    "                outputs = self.model(inputs)\n",
    "                loss = self.criterion(outputs, label)\n",
    "                loss.backward()\n",
    "                self.optimizer.step()\n",
    "\n",
    "                running_loss += loss.item() * inputs.size(0)\n",
    "                predicted_label = self.model.predict(outputs)\n",
    "                predictions.append(predicted_label)\n",
    "                labels_list.append(label.item())  \n",
    "#             prediction_counts = Counter(predictions)\n",
    "\n",
    "#             # Print the count of each unique number\n",
    "#             for label, count in prediction_counts.items():\n",
    "#                 print(f\"Label {label}: {count} occurrences\")\n",
    "            avg_loss = running_loss / len(labels_list)\n",
    "            accuracy = sum(p == l for p, l in zip(predictions, labels_list)) / len(predictions)\n",
    "\n",
    "            epoch_losses.append(avg_loss)\n",
    "            epoch_accuracies.append(accuracy)\n",
    "\n",
    "            print(f'Epoch {epoch+1}/{self.num_epochs}, Loss: {avg_loss:.4f}, Accuracy: {accuracy:.4f}')\n",
    "            \n",
    "        self.save_model(model_save_path)\n",
    "        \n",
    "        return epoch_losses, epoch_accuracies\n",
    "\n",
    "    def evaluate(self, test_data):\n",
    "        self.model.eval()  \n",
    "        predictions = []\n",
    "        labels_list = []\n",
    "        with torch.no_grad():  \n",
    "            for inputs, label in test_data:\n",
    "                inputs, label = inputs.to(self.device), label.to(self.device)\n",
    "                outputs = self.model(inputs)\n",
    "                predicted_label = self.model.predict(outputs)\n",
    "                predictions.append(predicted_label)\n",
    "                labels_list.append(label.item())\n",
    "        \n",
    "#         prediction_counts = Counter(predictions)\n",
    "\n",
    "#         # Print the count of each unique number\n",
    "#         for label, count in prediction_counts.items():\n",
    "#             print(f\"Label {label}: {count} occurrences\")\n",
    "            \n",
    "        accuracy = sum(p == l for p, l in zip(predictions, labels_list)) / len(predictions)\n",
    "        print(f'Test Accuracy: {accuracy:.4f}')\n",
    "        return accuracy\n",
    "    \n",
    "    def calculate_metrics(self, data_loader):\n",
    "        self.model.eval()\n",
    "        predictions = []\n",
    "        labels_list = []\n",
    "\n",
    "        with torch.no_grad():\n",
    "            for inputs, labels in data_loader:\n",
    "                inputs, labels = inputs.to(self.device), labels.to(self.device)\n",
    "                outputs = self.model(inputs)\n",
    "                predicted_label = self.model.predict(outputs)\n",
    "                predictions.append(predicted_label)\n",
    "                labels_list.append(labels.item())\n",
    "\n",
    "        accuracy = accuracy_score(labels_list, predictions)\n",
    "        precision = precision_score(labels_list, predictions, average='macro')\n",
    "        recall = recall_score(labels_list, predictions, average='macro')\n",
    "        f1 = f1_score(labels_list, predictions, average='macro')\n",
    "        confusion_mat = confusion_matrix(labels_list, predictions)\n",
    "\n",
    "        return accuracy, precision, recall, f1, confusion_mat\n",
    "\n",
    "    def evaluate_performance(self, train_loader, test_loader):\n",
    "        print(\"Evaluation on Train Set:\")\n",
    "        train_accuracy, train_precision, train_recall, train_f1, train_confusion_mat = self.calculate_metrics(train_loader)\n",
    "        print(f\"Train Accuracy: {train_accuracy:.4f}\")\n",
    "        print(f\"Train Precision: {train_precision:.4f}\")\n",
    "        print(f\"Train Recall: {train_recall:.4f}\")\n",
    "        print(f\"Train F1 Score: {train_f1:.4f}\")\n",
    "        print(\"Train Confusion Matrix:\")\n",
    "        print(train_confusion_mat)\n",
    "\n",
    "        print(\"\\nEvaluation on Test Set:\")\n",
    "        test_accuracy, test_precision, test_recall, test_f1, test_confusion_mat = self.calculate_metrics(test_loader)\n",
    "        print(f\"Test Accuracy: {test_accuracy:.4f}\")\n",
    "        print(f\"Test Precision: {test_precision:.4f}\")\n",
    "        print(f\"Test Recall: {test_recall:.4f}\")\n",
    "        print(f\"Test F1 Score: {test_f1:.4f}\")\n",
    "        print(\"Test Confusion Matrix:\")\n",
    "        print(test_confusion_mat)\n",
    "        \n",
    "    def save_model(self, filepath):\n",
    "        torch.save(self.model.state_dict(), filepath)\n",
    "        print(f'Model saved to {filepath}')\n",
    "\n",
    "    def predict_class(self, sentence):\n",
    "        input_tensor = sentence.to(self.device)\n",
    "        self.model.eval()  \n",
    "        with torch.no_grad():  \n",
    "            output = self.model(input_tensor)\n",
    "            predicted_label = self.model.predict(output)\n",
    "        \n",
    "        return predicted_label + 1\n"
   ]
  },
  {
   "cell_type": "code",
   "execution_count": 5,
   "id": "57046bc4",
   "metadata": {},
   "outputs": [],
   "source": [
    "def run_svd_classification_pipeline(train_file, test_file, input_size, hidden_size, output_size, num_epochs=10, lr=0.0005, num_samples=None, context_size=5):\n",
    "    \n",
    "    # Instantiate SVDWordVectors and train\n",
    "    svd_model = SVDWordVectors(train_file=train_file, num_samples=num_samples, k=100, save_path=f'svd_word_vectors_context_{context_size}.pt', context_size=context_size)\n",
    "    svd_model.train()\n",
    "    \n",
    "    # Instantiate SVDTextDataProcessor\n",
    "    data_processor = SVDTextDataProcessor()\n",
    "    \n",
    "    # Load word vectors from the file\n",
    "    data_processor.load_word_vectors(f'svd_word_vectors_context_{context_size}.pt')\n",
    "\n",
    "    # Load and preprocess the dataset\n",
    "    train_data = data_processor.load_dataset(train_file, num_samples=num_samples)\n",
    "    test_data = data_processor.load_dataset(test_file)\n",
    "    train_dataset = data_processor.preprocess_dataset(train_data)\n",
    "    test_dataset = data_processor.preprocess_dataset(test_data)\n",
    "\n",
    "    # Instantiate and train classifier\n",
    "    svd_classifier = Classifier(input_size, hidden_size, output_size, num_epochs=num_epochs, lr=lr)\n",
    "    svd_losses, svd_accuracies = svd_classifier.train(train_dataset, f'svd-classification-model-context_{context_size}.pt')\n",
    "\n",
    "    # Evaluate on test dataset\n",
    "    test_acc = svd_classifier.evaluate(test_dataset)\n",
    "\n",
    "    # Evaluate performance\n",
    "    svd_classifier.evaluate_performance(train_dataset, test_dataset)\n",
    "\n",
    "    return svd_losses, svd_accuracies, test_acc\n"
   ]
  },
  {
   "cell_type": "code",
   "execution_count": 12,
   "id": "64241bd3",
   "metadata": {},
   "outputs": [
    {
     "name": "stdout",
     "output_type": "stream",
     "text": [
      "Running pipeline for context size: 5\n",
      "Size of CountVectorizer vocabulary: 60735\n",
      "Shape of X matrix: (120000, 60734)\n",
      "Shape of co-occurrence matrix (coo_matrix): (60734, 60734)\n",
      "Shape of unknown vector: torch.Size([100])\n"
     ]
    },
    {
     "name": "stderr",
     "output_type": "stream",
     "text": [
      "Epoch 1/10: 100%|██████████████████████| 120000/120000 [04:19<00:00, 461.70it/s]\n"
     ]
    },
    {
     "name": "stdout",
     "output_type": "stream",
     "text": [
      "Epoch 1/10, Loss: 1.1339, Accuracy: 0.5120\n"
     ]
    },
    {
     "name": "stderr",
     "output_type": "stream",
     "text": [
      "Epoch 2/10: 100%|██████████████████████| 120000/120000 [06:41<00:00, 298.71it/s]\n"
     ]
    },
    {
     "name": "stdout",
     "output_type": "stream",
     "text": [
      "Epoch 2/10, Loss: 1.1142, Accuracy: 0.5252\n"
     ]
    },
    {
     "name": "stderr",
     "output_type": "stream",
     "text": [
      "Epoch 3/10: 100%|██████████████████████| 120000/120000 [08:21<00:00, 239.50it/s]\n"
     ]
    },
    {
     "name": "stdout",
     "output_type": "stream",
     "text": [
      "Epoch 3/10, Loss: 1.1102, Accuracy: 0.5258\n"
     ]
    },
    {
     "name": "stderr",
     "output_type": "stream",
     "text": [
      "Epoch 4/10: 100%|██████████████████████| 120000/120000 [06:15<00:00, 319.71it/s]\n"
     ]
    },
    {
     "name": "stdout",
     "output_type": "stream",
     "text": [
      "Epoch 4/10, Loss: 1.1046, Accuracy: 0.5288\n"
     ]
    },
    {
     "name": "stderr",
     "output_type": "stream",
     "text": [
      "Epoch 5/10: 100%|██████████████████████| 120000/120000 [05:50<00:00, 342.38it/s]\n"
     ]
    },
    {
     "name": "stdout",
     "output_type": "stream",
     "text": [
      "Epoch 5/10, Loss: 1.1037, Accuracy: 0.5315\n"
     ]
    },
    {
     "name": "stderr",
     "output_type": "stream",
     "text": [
      "Epoch 6/10: 100%|██████████████████████| 120000/120000 [05:50<00:00, 342.24it/s]\n"
     ]
    },
    {
     "name": "stdout",
     "output_type": "stream",
     "text": [
      "Epoch 6/10, Loss: 1.1036, Accuracy: 0.5306\n"
     ]
    },
    {
     "name": "stderr",
     "output_type": "stream",
     "text": [
      "Epoch 7/10: 100%|██████████████████████| 120000/120000 [05:30<00:00, 362.89it/s]\n"
     ]
    },
    {
     "name": "stdout",
     "output_type": "stream",
     "text": [
      "Epoch 7/10, Loss: 1.1043, Accuracy: 0.5319\n"
     ]
    },
    {
     "name": "stderr",
     "output_type": "stream",
     "text": [
      "Epoch 8/10: 100%|██████████████████████| 120000/120000 [05:59<00:00, 333.89it/s]\n"
     ]
    },
    {
     "name": "stdout",
     "output_type": "stream",
     "text": [
      "Epoch 8/10, Loss: 1.1029, Accuracy: 0.5308\n"
     ]
    },
    {
     "name": "stderr",
     "output_type": "stream",
     "text": [
      "Epoch 9/10: 100%|██████████████████████| 120000/120000 [06:47<00:00, 294.21it/s]\n"
     ]
    },
    {
     "name": "stdout",
     "output_type": "stream",
     "text": [
      "Epoch 9/10, Loss: 1.1015, Accuracy: 0.5321\n"
     ]
    },
    {
     "name": "stderr",
     "output_type": "stream",
     "text": [
      "Epoch 10/10: 100%|█████████████████████| 120000/120000 [06:45<00:00, 296.00it/s]\n"
     ]
    },
    {
     "name": "stdout",
     "output_type": "stream",
     "text": [
      "Epoch 10/10, Loss: 1.1019, Accuracy: 0.5334\n",
      "Model saved to svd-classification-model-context_5.pt\n",
      "Test Accuracy: 0.4970\n",
      "Evaluation on Train Set:\n",
      "Train Accuracy: 0.5095\n",
      "Train Precision: 0.5228\n",
      "Train Recall: 0.5095\n",
      "Train F1 Score: 0.5013\n",
      "Train Confusion Matrix:\n",
      "[[16792  8452  2688  2068]\n",
      " [ 4683 21252  1924  2141]\n",
      " [ 7138  6707 12111  4044]\n",
      " [ 6704  7402  4913 10981]]\n",
      "\n",
      "Evaluation on Test Set:\n",
      "Test Accuracy: 0.4970\n",
      "Test Precision: 0.5061\n",
      "Test Recall: 0.4970\n",
      "Test F1 Score: 0.4884\n",
      "Test Confusion Matrix:\n",
      "[[1025  554  186  135]\n",
      " [ 293 1331  112  164]\n",
      " [ 475  392  738  295]\n",
      " [ 411  479  327  683]]\n",
      "Running pipeline for context size: 7\n",
      "Size of CountVectorizer vocabulary: 60735\n",
      "Shape of X matrix: (120000, 60734)\n",
      "Shape of co-occurrence matrix (coo_matrix): (60734, 60734)\n",
      "Shape of unknown vector: torch.Size([100])\n"
     ]
    },
    {
     "name": "stderr",
     "output_type": "stream",
     "text": [
      "Epoch 1/10: 100%|██████████████████████| 120000/120000 [06:10<00:00, 324.14it/s]\n"
     ]
    },
    {
     "name": "stdout",
     "output_type": "stream",
     "text": [
      "Epoch 1/10, Loss: 1.1248, Accuracy: 0.5173\n"
     ]
    },
    {
     "name": "stderr",
     "output_type": "stream",
     "text": [
      "Epoch 2/10: 100%|██████████████████████| 120000/120000 [06:17<00:00, 317.52it/s]\n"
     ]
    },
    {
     "name": "stdout",
     "output_type": "stream",
     "text": [
      "Epoch 2/10, Loss: 1.1082, Accuracy: 0.5278\n"
     ]
    },
    {
     "name": "stderr",
     "output_type": "stream",
     "text": [
      "Epoch 3/10: 100%|██████████████████████| 120000/120000 [07:37<00:00, 262.44it/s]\n"
     ]
    },
    {
     "name": "stdout",
     "output_type": "stream",
     "text": [
      "Epoch 3/10, Loss: 1.1028, Accuracy: 0.5321\n"
     ]
    },
    {
     "name": "stderr",
     "output_type": "stream",
     "text": [
      "Epoch 4/10: 100%|██████████████████████| 120000/120000 [05:38<00:00, 354.99it/s]\n"
     ]
    },
    {
     "name": "stdout",
     "output_type": "stream",
     "text": [
      "Epoch 4/10, Loss: 1.1029, Accuracy: 0.5315\n"
     ]
    },
    {
     "name": "stderr",
     "output_type": "stream",
     "text": [
      "Epoch 5/10: 100%|██████████████████████| 120000/120000 [05:38<00:00, 354.95it/s]\n"
     ]
    },
    {
     "name": "stdout",
     "output_type": "stream",
     "text": [
      "Epoch 5/10, Loss: 1.1019, Accuracy: 0.5330\n"
     ]
    },
    {
     "name": "stderr",
     "output_type": "stream",
     "text": [
      "Epoch 6/10: 100%|██████████████████████| 120000/120000 [05:18<00:00, 376.32it/s]\n"
     ]
    },
    {
     "name": "stdout",
     "output_type": "stream",
     "text": [
      "Epoch 6/10, Loss: 1.0969, Accuracy: 0.5353\n"
     ]
    },
    {
     "name": "stderr",
     "output_type": "stream",
     "text": [
      "Epoch 7/10: 100%|██████████████████████| 120000/120000 [05:39<00:00, 353.47it/s]\n"
     ]
    },
    {
     "name": "stdout",
     "output_type": "stream",
     "text": [
      "Epoch 7/10, Loss: 1.0973, Accuracy: 0.5341\n"
     ]
    },
    {
     "name": "stderr",
     "output_type": "stream",
     "text": [
      "Epoch 8/10: 100%|██████████████████████| 120000/120000 [06:39<00:00, 300.33it/s]\n"
     ]
    },
    {
     "name": "stdout",
     "output_type": "stream",
     "text": [
      "Epoch 8/10, Loss: 1.0971, Accuracy: 0.5353\n"
     ]
    },
    {
     "name": "stderr",
     "output_type": "stream",
     "text": [
      "Epoch 9/10: 100%|██████████████████████| 120000/120000 [05:48<00:00, 343.86it/s]\n"
     ]
    },
    {
     "name": "stdout",
     "output_type": "stream",
     "text": [
      "Epoch 9/10, Loss: 1.0949, Accuracy: 0.5363\n"
     ]
    },
    {
     "name": "stderr",
     "output_type": "stream",
     "text": [
      "Epoch 10/10: 100%|█████████████████████| 120000/120000 [06:05<00:00, 328.66it/s]\n"
     ]
    },
    {
     "name": "stdout",
     "output_type": "stream",
     "text": [
      "Epoch 10/10, Loss: 1.0951, Accuracy: 0.5366\n",
      "Model saved to svd-classification-model-context_7.pt\n",
      "Test Accuracy: 0.5042\n",
      "Evaluation on Train Set:\n",
      "Train Accuracy: 0.5203\n",
      "Train Precision: 0.5298\n",
      "Train Recall: 0.5203\n",
      "Train F1 Score: 0.5144\n",
      "Train Confusion Matrix:\n",
      "[[17222  7423  3263  2092]\n",
      " [ 4918 20302  2658  2122]\n",
      " [ 6940  5810 13534  3716]\n",
      " [ 6582  6344  5701 11373]]\n",
      "\n",
      "Evaluation on Test Set:\n",
      "Test Accuracy: 0.5042\n",
      "Test Precision: 0.5107\n",
      "Test Recall: 0.5042\n",
      "Test F1 Score: 0.4975\n",
      "Test Confusion Matrix:\n",
      "[[1071  476  204  149]\n",
      " [ 313 1259  185  143]\n",
      " [ 469  347  823  261]\n",
      " [ 419  425  377  679]]\n",
      "Running pipeline for context size: 9\n",
      "Size of CountVectorizer vocabulary: 60735\n",
      "Shape of X matrix: (120000, 60734)\n",
      "Shape of co-occurrence matrix (coo_matrix): (60734, 60734)\n",
      "Shape of unknown vector: torch.Size([100])\n"
     ]
    },
    {
     "name": "stderr",
     "output_type": "stream",
     "text": [
      "Epoch 1/10: 100%|██████████████████████| 120000/120000 [06:28<00:00, 308.92it/s]\n"
     ]
    },
    {
     "name": "stdout",
     "output_type": "stream",
     "text": [
      "Epoch 1/10, Loss: 1.1229, Accuracy: 0.5189\n"
     ]
    },
    {
     "name": "stderr",
     "output_type": "stream",
     "text": [
      "Epoch 2/10: 100%|██████████████████████| 120000/120000 [07:16<00:00, 274.82it/s]\n"
     ]
    },
    {
     "name": "stdout",
     "output_type": "stream",
     "text": [
      "Epoch 2/10, Loss: 1.1067, Accuracy: 0.5276\n"
     ]
    },
    {
     "name": "stderr",
     "output_type": "stream",
     "text": [
      "Epoch 3/10: 100%|██████████████████████| 120000/120000 [06:09<00:00, 324.91it/s]\n"
     ]
    },
    {
     "name": "stdout",
     "output_type": "stream",
     "text": [
      "Epoch 3/10, Loss: 1.1009, Accuracy: 0.5339\n"
     ]
    },
    {
     "name": "stderr",
     "output_type": "stream",
     "text": [
      "Epoch 4/10: 100%|██████████████████████| 120000/120000 [05:59<00:00, 333.69it/s]\n"
     ]
    },
    {
     "name": "stdout",
     "output_type": "stream",
     "text": [
      "Epoch 4/10, Loss: 1.0990, Accuracy: 0.5339\n"
     ]
    },
    {
     "name": "stderr",
     "output_type": "stream",
     "text": [
      "Epoch 5/10: 100%|██████████████████████| 120000/120000 [06:02<00:00, 331.13it/s]\n"
     ]
    },
    {
     "name": "stdout",
     "output_type": "stream",
     "text": [
      "Epoch 5/10, Loss: 1.0989, Accuracy: 0.5328\n"
     ]
    },
    {
     "name": "stderr",
     "output_type": "stream",
     "text": [
      "Epoch 6/10: 100%|██████████████████████| 120000/120000 [05:49<00:00, 343.35it/s]\n"
     ]
    },
    {
     "name": "stdout",
     "output_type": "stream",
     "text": [
      "Epoch 6/10, Loss: 1.0946, Accuracy: 0.5361\n"
     ]
    },
    {
     "name": "stderr",
     "output_type": "stream",
     "text": [
      "Epoch 7/10: 100%|██████████████████████| 120000/120000 [05:45<00:00, 347.35it/s]\n"
     ]
    },
    {
     "name": "stdout",
     "output_type": "stream",
     "text": [
      "Epoch 7/10, Loss: 1.0935, Accuracy: 0.5369\n"
     ]
    },
    {
     "name": "stderr",
     "output_type": "stream",
     "text": [
      "Epoch 8/10: 100%|██████████████████████| 120000/120000 [05:27<00:00, 366.28it/s]\n"
     ]
    },
    {
     "name": "stdout",
     "output_type": "stream",
     "text": [
      "Epoch 8/10, Loss: 1.0953, Accuracy: 0.5348\n"
     ]
    },
    {
     "name": "stderr",
     "output_type": "stream",
     "text": [
      "Epoch 9/10: 100%|██████████████████████| 120000/120000 [05:48<00:00, 344.28it/s]\n"
     ]
    },
    {
     "name": "stdout",
     "output_type": "stream",
     "text": [
      "Epoch 9/10, Loss: 1.0921, Accuracy: 0.5368\n"
     ]
    },
    {
     "name": "stderr",
     "output_type": "stream",
     "text": [
      "Epoch 10/10: 100%|█████████████████████| 120000/120000 [05:28<00:00, 365.07it/s]\n"
     ]
    },
    {
     "name": "stdout",
     "output_type": "stream",
     "text": [
      "Epoch 10/10, Loss: 1.0892, Accuracy: 0.5383\n",
      "Model saved to svd-classification-model-context_9.pt\n",
      "Test Accuracy: 0.5091\n",
      "Evaluation on Train Set:\n",
      "Train Accuracy: 0.5238\n",
      "Train Precision: 0.5426\n",
      "Train Recall: 0.5238\n",
      "Train F1 Score: 0.5155\n",
      "Train Confusion Matrix:\n",
      "[[17101  8375  2693  1831]\n",
      " [ 4436 21943  2212  1409]\n",
      " [ 6942  7084 12870  3104]\n",
      " [ 6353  7336  5370 10941]]\n",
      "\n",
      "Evaluation on Test Set:\n",
      "Test Accuracy: 0.5091\n",
      "Test Precision: 0.5256\n",
      "Test Recall: 0.5091\n",
      "Test F1 Score: 0.5004\n",
      "Test Confusion Matrix:\n",
      "[[1046  538  192  124]\n",
      " [ 292 1365  135  108]\n",
      " [ 473  432  788  207]\n",
      " [ 414  480  336  670]]\n"
     ]
    }
   ],
   "source": [
    "context_sizes = [5, 7, 9]  \n",
    "num_epochs = 10  \n",
    "input_size = 100\n",
    "hidden_size = 128\n",
    "output_size = 4\n",
    "train_file = \"data/train.csv\"\n",
    "test_file = \"data/test.csv\"\n",
    "\n",
    "results = {}  # Dictionary to store results for each context size\n",
    "\n",
    "for context_size in context_sizes:\n",
    "    print(f\"Running pipeline for context size: {context_size}\")\n",
    "    svd_losses, svd_accuracies, test_acc = run_svd_classification_pipeline(train_file, test_file, input_size, hidden_size, output_size, num_epochs=num_epochs, context_size=context_size)\n",
    "    results[context_size] = {'losses': svd_losses, 'accuracies': svd_accuracies, 'test_accuracy': test_acc}\n"
   ]
  },
  {
   "cell_type": "code",
   "execution_count": 13,
   "id": "4b340994",
   "metadata": {},
   "outputs": [
    {
     "name": "stdout",
     "output_type": "stream",
     "text": [
      "Context Size: 5\n",
      "Training Losses: [1.1339191161151412, 1.1141651761155382, 1.1101597481059298, 1.1046458898504807, 1.103690610044399, 1.1035762495320833, 1.1042612026976344, 1.1029160532540176, 1.1015084551609549, 1.1018641972934595]\n",
      "Training Accuracies: [0.5120166666666667, 0.5251583333333333, 0.525775, 0.5288, 0.5315, 0.5306083333333333, 0.5319083333333333, 0.5308, 0.5321333333333333, 0.5334]\n",
      "Test Accuracy: 0.4969736842105263\n",
      "Context Size: 7\n",
      "Training Losses: [1.1248133148040156, 1.1082442424740255, 1.1028005330584634, 1.1029162314843193, 1.101857720437283, 1.096907683661716, 1.0973020509318758, 1.0971218158571554, 1.0948873770837517, 1.0950721615154781]\n",
      "Training Accuracies: [0.5173, 0.5278083333333333, 0.5321, 0.5315166666666666, 0.5329666666666667, 0.5353166666666667, 0.5341, 0.53535, 0.5362833333333333, 0.536625]\n",
      "Test Accuracy: 0.5042105263157894\n",
      "Context Size: 9\n",
      "Training Losses: [1.122926371330147, 1.106723714132937, 1.1008609740390094, 1.0990158408314532, 1.0988978893108161, 1.0945910607289058, 1.0934573507537018, 1.0953194842939227, 1.0921052706111998, 1.0891630217085826]\n",
      "Training Accuracies: [0.5188833333333334, 0.5275583333333334, 0.533875, 0.533875, 0.5328083333333333, 0.53605, 0.536875, 0.5348083333333333, 0.5367583333333333, 0.5383083333333334]\n",
      "Test Accuracy: 0.5090789473684211\n"
     ]
    }
   ],
   "source": [
    "# Print results\n",
    "for context_size, result in results.items():\n",
    "    print(f\"Context Size: {context_size}\")\n",
    "    print(f\"Training Losses: {result['losses']}\")\n",
    "    print(f\"Training Accuracies: {result['accuracies']}\")\n",
    "    print(f\"Test Accuracy: {result['test_accuracy']}\")\n"
   ]
  },
  {
   "cell_type": "code",
   "execution_count": 14,
   "id": "0f2217e7",
   "metadata": {},
   "outputs": [],
   "source": [
    "def plot_results(results):\n",
    "    # Marker styles for each context size\n",
    "    marker_styles = ['o', 's', '^']\n",
    "\n",
    "    # Plotting\n",
    "    fig, axes = plt.subplots(nrows=1, ncols=2, figsize=(15, 5))\n",
    "\n",
    "    for i, (context_size, result) in enumerate(results.items()):\n",
    "        axes[0].plot(result['losses'], marker=marker_styles[i], label=f\"Context Size: {context_size}\")\n",
    "        axes[1].plot(result['accuracies'], marker=marker_styles[i], label=f\"Context Size: {context_size}\")\n",
    "\n",
    "    axes[0].set_title('Training Losses')\n",
    "    axes[0].set_xlabel('Epochs')\n",
    "    axes[0].set_ylabel('Loss')\n",
    "    axes[0].legend()\n",
    "\n",
    "    axes[1].set_title('Training Accuracies')\n",
    "    axes[1].set_xlabel('Epochs')\n",
    "    axes[1].set_ylabel('Accuracy')\n",
    "    axes[1].legend()\n",
    "\n",
    "    plt.tight_layout()\n",
    "    plt.show()"
   ]
  },
  {
   "cell_type": "code",
   "execution_count": 15,
   "id": "5248aff9",
   "metadata": {},
   "outputs": [
    {
     "data": {
      "image/png": "[encoded data removed]",
      "text/plain": [
       "<Figure size 1500x500 with 2 Axes>"
      ]
     },
     "metadata": {},
     "output_type": "display_data"
    }
   ],
   "source": [
    "plot_results(results)"
   ]
  },
  {
   "cell_type": "code",
   "execution_count": null,
   "id": "ee747c4b",
   "metadata": {},
   "outputs": [],
   "source": []
  }
 ],
 "metadata": {
  "kernelspec": {
   "display_name": "Python 3 (ipykernel)",
   "language": "python",
   "name": "python3"
  },
  "language_info": {
   "codemirror_mode": {
    "name": "ipython",
    "version": 3
   },
   "file_extension": ".py",
   "mimetype": "text/x-python",
   "name": "python",
   "nbconvert_exporter": "python",
   "pygments_lexer": "ipython3",
   "version": "3.11.6"
  }
 },
 "nbformat": 4,
 "nbformat_minor": 5
}
