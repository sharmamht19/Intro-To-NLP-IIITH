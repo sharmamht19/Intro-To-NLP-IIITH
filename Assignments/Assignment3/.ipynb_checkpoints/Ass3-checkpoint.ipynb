{
 "cells": [
  {
   "cell_type": "code",
   "execution_count": 1,
   "id": "b82430f3",
   "metadata": {},
   "outputs": [],
   "source": [
    "import pandas as pd\n",
    "import torch\n",
    "import torch.nn as nn\n",
    "import torch.optim as optim\n",
    "from torch.utils.data import DataLoader, Dataset\n",
    "from sklearn.feature_extraction.text import CountVectorizer\n",
    "from scipy.sparse import coo_matrix as cm\n",
    "from sklearn.model_selection import train_test_split\n",
    "from sklearn.metrics import accuracy_score\n",
    "import numpy as np\n",
    "import pickle\n",
    "from tqdm import tqdm\n",
    "from sklearn.decomposition import TruncatedSVD\n",
    "from tqdm import tqdm\n",
    "import torch.nn.functional as F"
   ]
  },
  {
   "cell_type": "code",
   "execution_count": 2,
   "id": "a2a22191",
   "metadata": {},
   "outputs": [],
   "source": [
    "class SVDWordVectors:\n",
    "    def __init__(self, train_file, num_samples=10000, k=100, save_path='svd_word_vectors.pt', context_size=2):\n",
    "        self.train_file = train_file\n",
    "        self.num_samples = num_samples\n",
    "        self.k = k\n",
    "        self.save_path = save_path\n",
    "        self.context_size = context_size\n",
    "        self.word_vectors = None\n",
    "        self.vectorizer = None\n",
    "        self.vocabulary = None\n",
    "        self.word_to_index = None  # Mapping from word to index\n",
    "        self.unknown_token = '<UNK>'\n",
    "        self.unknown_vector = None  # Initialize unknown vector\n",
    "\n",
    "    def load_dataset(self, file_path, num_samples=None):\n",
    "        if num_samples:\n",
    "            data = pd.read_csv(file_path, nrows=num_samples)\n",
    "        else:\n",
    "            data = pd.read_csv(file_path)\n",
    "        return data\n",
    "\n",
    "    def preprocess_data(self, data):\n",
    "        corpus = data['Description']\n",
    "        return corpus\n",
    "\n",
    "    def build_co_occurrence_matrix(self, corpus):\n",
    "        self.vectorizer = CountVectorizer()\n",
    "        X = self.vectorizer.fit_transform(corpus)\n",
    "        num_words = len(self.vectorizer.vocabulary_)\n",
    "\n",
    "        co_occurrence_matrix = np.zeros((num_words, num_words), dtype=np.int32)\n",
    "\n",
    "        for doc in corpus:\n",
    "            tokens = doc.split()\n",
    "            for i, target_word in enumerate(tokens):\n",
    "                target_index = self.vectorizer.vocabulary_.get(target_word)\n",
    "                if target_index is None:\n",
    "                    continue\n",
    "\n",
    "                # Iterate over the context window around the target word\n",
    "                for j in range(max(0, i - self.context_size), min(len(tokens), i + self.context_size + 1)):\n",
    "                    if j != i:\n",
    "                        context_word = tokens[j]\n",
    "                        context_index = self.vectorizer.vocabulary_.get(context_word)\n",
    "                        if context_index is not None:\n",
    "                            co_occurrence_matrix[target_index, context_index] += 1\n",
    "\n",
    "        coo_matrix = cm(co_occurrence_matrix)\n",
    "\n",
    "        self.vocabulary = self.vectorizer.vocabulary_\n",
    "        self.vocabulary[self.unknown_token] = len(self.vocabulary)\n",
    "\n",
    "        self.unknown_vector = torch.zeros(self.k)\n",
    "\n",
    "        print(\"Size of CountVectorizer vocabulary:\", len(self.vocabulary))\n",
    "        print(\"Shape of X matrix:\", X.shape)\n",
    "        print(\"Shape of co-occurrence matrix (coo_matrix):\", coo_matrix.shape)\n",
    "        print(\"Shape of unknown vector:\", self.unknown_vector.shape)\n",
    "\n",
    "        return coo_matrix\n",
    "\n",
    "    def apply_svd(self, coo_matrix):\n",
    "        svd = TruncatedSVD(self.k, n_iter=10)\n",
    "        word_vectors_svd = svd.fit_transform(coo_matrix)\n",
    "        return word_vectors_svd\n",
    "\n",
    "    def train(self):\n",
    "        data = self.load_dataset(self.train_file, self.num_samples)\n",
    "        corpus = self.preprocess_data(data)\n",
    "        coo_matrix = self.build_co_occurrence_matrix(corpus)\n",
    "        self.word_vectors = self.apply_svd(coo_matrix)\n",
    "        self.word_vectors = torch.tensor(self.word_vectors)  # Convert numpy array to PyTorch tensor\n",
    "        self.word_vectors = torch.cat((self.word_vectors, self.unknown_vector.unsqueeze(0)), dim=0)\n",
    "        self.word_vectors = self.word_vectors.to(torch.float32)  # Convert tensor to torch.float32\n",
    "\n",
    "        # Create mapping from word to index\n",
    "        self.word_to_index = {word: idx for word, idx in self.vocabulary.items()}\n",
    "\n",
    "        self.save_word_vectors(self.word_vectors, self.word_to_index)  # Save both word vectors and mapping\n",
    "\n",
    "    def save_word_vectors(self, word_vectors, word_to_index):\n",
    "        # Save both word vectors and mapping\n",
    "        torch.save({'word_vectors': word_vectors, 'word_to_index': word_to_index}, self.save_path)\n",
    "\n",
    "    def load_word_vectors(self):\n",
    "        # Load both word vectors and mapping\n",
    "        checkpoint = torch.load(self.save_path)\n",
    "        self.word_vectors = checkpoint['word_vectors']\n",
    "        self.word_to_index = checkpoint['word_to_index']\n"
   ]
  },
  {
   "cell_type": "code",
   "execution_count": 3,
   "id": "5ed52de1",
   "metadata": {},
   "outputs": [
    {
     "name": "stdout",
     "output_type": "stream",
     "text": [
      "Size of CountVectorizer vocabulary: 60735\n",
      "Shape of X matrix: (120000, 60734)\n",
      "Shape of co-occurrence matrix (coo_matrix): (60734, 60734)\n",
      "Shape of unknown vector: torch.Size([100])\n"
     ]
    }
   ],
   "source": [
    "svd_model = SVDWordVectors(train_file=\"data/train.csv\", num_samples=None, k=100, save_path='svd_word_vectors.pt',context_size=5)\n",
    "svd_model.train()"
   ]
  },
  {
   "cell_type": "code",
   "execution_count": 4,
   "id": "85bb63bc",
   "metadata": {},
   "outputs": [
    {
     "name": "stdout",
     "output_type": "stream",
     "text": [
      "Size of vocabulary: 60735\n",
      "Size of word vectors: torch.Size([60735, 100])\n",
      "world vectors tensor([[ 1.1744e+00, -9.0805e-02, -4.0689e-01,  ..., -2.4205e-02,\n",
      "          4.1580e-02, -8.5038e-02],\n",
      "        [ 1.0647e+01, -5.5095e-01,  1.1532e+00,  ..., -2.9955e-01,\n",
      "         -2.5240e-02,  2.6508e-01],\n",
      "        [ 0.0000e+00,  0.0000e+00,  0.0000e+00,  ...,  0.0000e+00,\n",
      "          0.0000e+00,  0.0000e+00],\n",
      "        ...,\n",
      "        [ 4.1421e-01,  5.8811e-01, -3.5414e-01,  ..., -6.6696e-03,\n",
      "          9.5885e-03,  8.4931e-02],\n",
      "        [ 2.1136e-02,  1.2461e-02,  2.7019e-02,  ...,  1.7345e-01,\n",
      "          5.4228e-03, -3.2105e-02],\n",
      "        [ 0.0000e+00,  0.0000e+00,  0.0000e+00,  ...,  0.0000e+00,\n",
      "          0.0000e+00,  0.0000e+00]])\n",
      "Number of rows with all zero values: 28847\n"
     ]
    }
   ],
   "source": [
    "if svd_model.vocabulary is not None:\n",
    "    print(\"Size of vocabulary:\", len(svd_model.vocabulary))\n",
    "else:\n",
    "    print(\"Vocabulary not initialized.\")\n",
    "\n",
    "# Print size of word vectors\n",
    "if svd_model.word_vectors is not None:\n",
    "    print(\"Size of word vectors:\", svd_model.word_vectors.shape)\n",
    "else:\n",
    "    print(\"Word vectors not initialized.\")\n",
    "print(\"world vectors\",svd_model.word_vectors)\n",
    "\n",
    "\n",
    "# Assuming your word vectors tensor is named word_vectors_tensor\n",
    "num_rows_with_zeros = torch.sum(torch.all(svd_model.word_vectors == 0, dim=1)).item()\n",
    "print(\"Number of rows with all zero values:\", num_rows_with_zeros)\n",
    "\n"
   ]
  },
  {
   "cell_type": "code",
   "execution_count": null,
   "id": "fd006fe9",
   "metadata": {},
   "outputs": [],
   "source": []
  },
  {
   "cell_type": "code",
   "execution_count": 5,
   "id": "bbdc9ba0",
   "metadata": {},
   "outputs": [],
   "source": [
    "# class MyDataset(Dataset):\n",
    "#     def __init__(self, features, labels):\n",
    "#         self.features = features\n",
    "#         self.labels = labels\n",
    "\n",
    "#     def __len__(self):\n",
    "#         return len(self.features)\n",
    "\n",
    "#     def __getitem__(self, idx):\n",
    "#         return self.features[idx], self.labels[idx]\n",
    "\n",
    "# class RNNClassifier(nn.Module):\n",
    "#     def __init__(self, input_size, hidden_size, output_size):\n",
    "#         super(RNNClassifier, self).__init__()\n",
    "#         self.rnn = nn.RNN(input_size, hidden_size, batch_first=True)\n",
    "#         self.fc = nn.Linear(hidden_size, output_size)\n",
    "\n",
    "#     def forward(self, x):\n",
    "#         out, _ = self.rnn(x.unsqueeze(0))\n",
    "#         out = self.fc(out[:, -1, :])\n",
    "#         return out\n",
    "\n"
   ]
  },
  {
   "cell_type": "code",
   "execution_count": 30,
   "id": "bb654540",
   "metadata": {},
   "outputs": [],
   "source": [
    "class MyDataset(Dataset):\n",
    "    def __init__(self, features, labels):\n",
    "        self.features = features\n",
    "        self.labels = labels\n",
    "\n",
    "    def __len__(self):\n",
    "        return len(self.features)\n",
    "\n",
    "    def __getitem__(self, idx):\n",
    "        return self.features[idx], self.labels[idx]\n",
    "\n",
    "class LSTMClassifier(nn.Module):\n",
    "    def __init__(self, input_size, hidden_size, output_size):\n",
    "        super(LSTMClassifier, self).__init__()\n",
    "        self.lstm = nn.LSTM(input_size, hidden_size, batch_first=True)\n",
    "        self.fc = nn.Linear(hidden_size, output_size)\n",
    "\n",
    "    def forward(self, x):\n",
    "        _, (hn, _) = self.lstm(x.unsqueeze(0))\n",
    "        out = self.fc(hn[-1, :, :])\n",
    "        pred = F.log_softmax(out, dim=1)  # Compute log probabilities with softmax\n",
    "        return pred\n",
    "\n",
    "class SVDClassifier:\n",
    "    def __init__(self, word_vectors_file, num_classes):\n",
    "        self.word_vectors, self.word_to_index = self.load_word_vectors(word_vectors_file)\n",
    "        self.num_classes = num_classes\n",
    "        self.lstm_model = LSTMClassifier(input_size=self.word_vectors.size(1), hidden_size=128, output_size=num_classes)\n",
    "        self.device = torch.device(\"cuda\" if torch.cuda.is_available() else \"cpu\")\n",
    "        self.lstm_model.to(self.device)\n",
    "\n",
    "    def load_word_vectors(self, file_path):\n",
    "        saved_data = torch.load(file_path)\n",
    "        word_vectors = saved_data['word_vectors']\n",
    "        word_to_index = saved_data['word_to_index']\n",
    "        return word_vectors, word_to_index\n",
    "\n",
    "    def train(self, train_file, test_file, num_samples=10000, epochs=10):\n",
    "        # Load the training data once\n",
    "        train_data = self.load_dataset(train_file, num_samples)\n",
    "        train_corpus = self.preprocess_data(train_data)\n",
    "        train_features = self.convert_to_features(train_corpus)\n",
    "        train_labels = train_data['Class Index']\n",
    "        train_dataset = MyDataset(train_features, train_labels)\n",
    "        train_dataloader = DataLoader(train_dataset, batch_size=1, shuffle=True)\n",
    "        num_train_batches = len(train_dataloader)\n",
    "\n",
    "        # Load the test data once\n",
    "        test_data = self.load_dataset(test_file)\n",
    "        test_corpus = self.preprocess_data(test_data)\n",
    "        test_features = self.convert_to_features(test_corpus)\n",
    "        test_labels = test_data['Class Index']\n",
    "        test_dataset = MyDataset(test_features, test_labels)\n",
    "        test_dataloader = DataLoader(test_dataset, batch_size=1, shuffle=False)\n",
    "        num_test_batches = len(test_dataloader)\n",
    "        \n",
    "        criterion = nn.CrossEntropyLoss()\n",
    "        optimizer = torch.optim.Adam(self.lstm_model.parameters(), lr=0.0005)\n",
    "        train_losses = []\n",
    "        test_accuracies = []\n",
    "        \n",
    "        for epoch in range(epochs):        \n",
    "            self.lstm_model.train()\n",
    "            total_loss = 0.0\n",
    "            progress_bar = tqdm(enumerate(train_dataloader), total=num_train_batches, desc=f'Epoch {epoch+1}/{epochs}')\n",
    "            for step, (inputs, labels) in progress_bar:\n",
    "                inputs, labels = inputs.to(self.device), labels.to(self.device)\n",
    "                optimizer.zero_grad()\n",
    "                outputs = self.lstm_model(inputs)\n",
    "                loss = criterion(outputs, labels)\n",
    "                loss.backward()\n",
    "                optimizer.step()\n",
    "                total_loss += loss.item()\n",
    "\n",
    "            train_loss = total_loss / num_train_batches\n",
    "            train_losses.append(train_loss)\n",
    "            test_accuracy = self.evaluate(test_dataloader)\n",
    "            test_accuracies.append(test_accuracy)\n",
    "            \n",
    "            print(f'Epoch {epoch+1}/{epochs}, Train Loss: {train_loss:.4f}, Test Accuracy: {test_accuracy:.4f}')\n",
    "\n",
    "        return train_losses, test_accuracies\n",
    "\n",
    "    def evaluate(self, dataloader):\n",
    "        self.lstm_model.eval()\n",
    "        predictions = []\n",
    "        true_labels = []\n",
    "        with torch.no_grad():\n",
    "            for inputs, labels in dataloader:\n",
    "                inputs, labels = inputs.to(self.device), labels.to(self.device)\n",
    "                outputs = self.lstm_model(inputs)\n",
    "                _, predicted = torch.max(outputs, 1)\n",
    "                predictions.extend(predicted.tolist())\n",
    "                true_labels.extend(labels.tolist())\n",
    "#         unique_true_labels = set(true_labels)\n",
    "#         unique_predictions = set(predictions)\n",
    "\n",
    "#         print(\"Unique true labels:\", unique_true_labels)\n",
    "#         print(\"Unique predictions:\", unique_predictions)\n",
    "        accuracy = accuracy_score(true_labels, predictions)\n",
    "        return accuracy\n",
    "\n",
    "    def test(self, test_file):\n",
    "        data = self.load_dataset(test_file)\n",
    "        corpus = self.preprocess_data(data)\n",
    "        features = self.convert_to_features(corpus)\n",
    "        labels = data['Class Index']\n",
    "\n",
    "        dataset = MyDataset(features, labels)\n",
    "        dataloader = DataLoader(dataset, batch_size=1, shuffle=False)\n",
    "        num_batches = len(dataloader)\n",
    "\n",
    "        self.lstm_model.eval()\n",
    "        predictions = []\n",
    "        true_labels = []\n",
    "\n",
    "        with torch.no_grad():\n",
    "            progress_bar = tqdm(enumerate(dataloader), total=num_batches)\n",
    "            for step, (inputs, labels) in progress_bar:\n",
    "                inputs, labels = inputs.to(self.device), labels.to(self.device)\n",
    "                outputs = self.lstm_model(inputs)\n",
    "                _, predicted = torch.max(outputs, 1)\n",
    "                predictions.extend(predicted.tolist())\n",
    "                true_labels.extend(labels.tolist())\n",
    "                progress_bar.set_description('Testing')\n",
    "\n",
    "        accuracy = accuracy_score(true_labels, predictions)\n",
    "        return accuracy\n",
    "\n",
    "    def convert_to_features(self, corpus):\n",
    "        features = []\n",
    "        unk_index = self.word_to_index.get('<UNK>')\n",
    "        unknown_vector = self.word_vectors[unk_index]\n",
    "        for text in corpus:\n",
    "            encoded_text = []\n",
    "            for token in text.split():\n",
    "                idx = self.word_to_index.get(token)\n",
    "                if idx is not None:\n",
    "                    encoded_text.append(self.word_vectors[idx])\n",
    "                else:\n",
    "                    encoded_text.append(unknown_vector)\n",
    "            encoded_text_avg = torch.stack(encoded_text).mean(dim=0)\n",
    "            features.append(encoded_text_avg)\n",
    "\n",
    "        return torch.stack(features)\n",
    "\n",
    "    def load_dataset(self, file_path, num_samples=None, reduce_label=True):\n",
    "        if num_samples:\n",
    "            data = pd.read_csv(file_path, nrows=num_samples)\n",
    "        else:\n",
    "            data = pd.read_csv(file_path)\n",
    "\n",
    "        if reduce_label:\n",
    "            data['Class Index'] -= 1  # Reduce 1 from each label\n",
    "\n",
    "        return data\n",
    "\n",
    "    def preprocess_data(self, data):\n",
    "        corpus = data['Description']\n",
    "        return corpus\n"
   ]
  },
  {
   "cell_type": "code",
   "execution_count": 22,
   "id": "5f9d0126",
   "metadata": {},
   "outputs": [],
   "source": []
  },
  {
   "cell_type": "code",
   "execution_count": 8,
   "id": "c58b042c",
   "metadata": {},
   "outputs": [
    {
     "name": "stderr",
     "output_type": "stream",
     "text": [
      "Epoch 1/30: 100%|█████████████████████| 120000/120000 [01:40<00:00, 1190.26it/s]\n"
     ]
    },
    {
     "name": "stdout",
     "output_type": "stream",
     "text": [
      "Epoch 1/30, Train Loss: 1.3323, Test Accuracy: 0.4232\n"
     ]
    },
    {
     "name": "stderr",
     "output_type": "stream",
     "text": [
      "Epoch 2/30: 100%|█████████████████████| 120000/120000 [01:55<00:00, 1035.20it/s]\n"
     ]
    },
    {
     "name": "stdout",
     "output_type": "stream",
     "text": [
      "Epoch 2/30, Train Loss: 1.2476, Test Accuracy: 0.4151\n"
     ]
    },
    {
     "name": "stderr",
     "output_type": "stream",
     "text": [
      "Epoch 3/30: 100%|██████████████████████| 120000/120000 [02:21<00:00, 849.54it/s]\n"
     ]
    },
    {
     "name": "stdout",
     "output_type": "stream",
     "text": [
      "Epoch 3/30, Train Loss: 1.2182, Test Accuracy: 0.4680\n"
     ]
    },
    {
     "name": "stderr",
     "output_type": "stream",
     "text": [
      "Epoch 4/30: 100%|█████████████████████| 120000/120000 [01:57<00:00, 1017.80it/s]\n"
     ]
    },
    {
     "name": "stdout",
     "output_type": "stream",
     "text": [
      "Epoch 4/30, Train Loss: 1.2016, Test Accuracy: 0.5114\n"
     ]
    },
    {
     "name": "stderr",
     "output_type": "stream",
     "text": [
      "Epoch 5/30: 100%|█████████████████████| 120000/120000 [01:56<00:00, 1032.03it/s]\n"
     ]
    },
    {
     "name": "stdout",
     "output_type": "stream",
     "text": [
      "Epoch 5/30, Train Loss: 1.1723, Test Accuracy: 0.4595\n"
     ]
    },
    {
     "name": "stderr",
     "output_type": "stream",
     "text": [
      "Epoch 6/30: 100%|█████████████████████| 120000/120000 [01:58<00:00, 1010.32it/s]\n"
     ]
    },
    {
     "name": "stdout",
     "output_type": "stream",
     "text": [
      "Epoch 6/30, Train Loss: 1.1700, Test Accuracy: 0.4517\n"
     ]
    },
    {
     "name": "stderr",
     "output_type": "stream",
     "text": [
      "Epoch 7/30: 100%|█████████████████████| 120000/120000 [01:58<00:00, 1016.49it/s]\n"
     ]
    },
    {
     "name": "stdout",
     "output_type": "stream",
     "text": [
      "Epoch 7/30, Train Loss: 1.1555, Test Accuracy: 0.4878\n"
     ]
    },
    {
     "name": "stderr",
     "output_type": "stream",
     "text": [
      "Epoch 8/30: 100%|█████████████████████| 120000/120000 [01:59<00:00, 1001.13it/s]\n"
     ]
    },
    {
     "name": "stdout",
     "output_type": "stream",
     "text": [
      "Epoch 8/30, Train Loss: 1.1393, Test Accuracy: 0.5367\n"
     ]
    },
    {
     "name": "stderr",
     "output_type": "stream",
     "text": [
      "Epoch 9/30: 100%|█████████████████████| 120000/120000 [01:57<00:00, 1017.43it/s]\n"
     ]
    },
    {
     "name": "stdout",
     "output_type": "stream",
     "text": [
      "Epoch 9/30, Train Loss: 1.1173, Test Accuracy: 0.4959\n"
     ]
    },
    {
     "name": "stderr",
     "output_type": "stream",
     "text": [
      "Epoch 10/30: 100%|████████████████████| 120000/120000 [01:56<00:00, 1026.87it/s]\n"
     ]
    },
    {
     "name": "stdout",
     "output_type": "stream",
     "text": [
      "Epoch 10/30, Train Loss: 1.1012, Test Accuracy: 0.5209\n"
     ]
    },
    {
     "name": "stderr",
     "output_type": "stream",
     "text": [
      "Epoch 11/30: 100%|████████████████████| 120000/120000 [01:58<00:00, 1008.52it/s]\n"
     ]
    },
    {
     "name": "stdout",
     "output_type": "stream",
     "text": [
      "Epoch 11/30, Train Loss: 1.0858, Test Accuracy: 0.5587\n"
     ]
    },
    {
     "name": "stderr",
     "output_type": "stream",
     "text": [
      "Epoch 12/30: 100%|████████████████████| 120000/120000 [01:59<00:00, 1007.06it/s]\n"
     ]
    },
    {
     "name": "stdout",
     "output_type": "stream",
     "text": [
      "Epoch 12/30, Train Loss: 1.0759, Test Accuracy: 0.5729\n"
     ]
    },
    {
     "name": "stderr",
     "output_type": "stream",
     "text": [
      "Epoch 13/30: 100%|████████████████████| 120000/120000 [01:59<00:00, 1006.40it/s]\n"
     ]
    },
    {
     "name": "stdout",
     "output_type": "stream",
     "text": [
      "Epoch 13/30, Train Loss: 1.0607, Test Accuracy: 0.5318\n"
     ]
    },
    {
     "name": "stderr",
     "output_type": "stream",
     "text": [
      "Epoch 14/30: 100%|█████████████████████| 120000/120000 [02:10<00:00, 921.58it/s]\n"
     ]
    },
    {
     "name": "stdout",
     "output_type": "stream",
     "text": [
      "Epoch 14/30, Train Loss: 1.0627, Test Accuracy: 0.5787\n"
     ]
    },
    {
     "name": "stderr",
     "output_type": "stream",
     "text": [
      "Epoch 15/30: 100%|█████████████████████| 120000/120000 [02:17<00:00, 872.03it/s]\n"
     ]
    },
    {
     "name": "stdout",
     "output_type": "stream",
     "text": [
      "Epoch 15/30, Train Loss: 1.0679, Test Accuracy: 0.5561\n"
     ]
    },
    {
     "name": "stderr",
     "output_type": "stream",
     "text": [
      "Epoch 16/30: 100%|█████████████████████| 120000/120000 [02:12<00:00, 903.57it/s]\n"
     ]
    },
    {
     "name": "stdout",
     "output_type": "stream",
     "text": [
      "Epoch 16/30, Train Loss: 1.0522, Test Accuracy: 0.5428\n"
     ]
    },
    {
     "name": "stderr",
     "output_type": "stream",
     "text": [
      "Epoch 17/30: 100%|█████████████████████| 120000/120000 [02:01<00:00, 986.77it/s]\n"
     ]
    },
    {
     "name": "stdout",
     "output_type": "stream",
     "text": [
      "Epoch 17/30, Train Loss: 1.0475, Test Accuracy: 0.5789\n"
     ]
    },
    {
     "name": "stderr",
     "output_type": "stream",
     "text": [
      "Epoch 18/30: 100%|█████████████████████| 120000/120000 [02:09<00:00, 924.80it/s]\n"
     ]
    },
    {
     "name": "stdout",
     "output_type": "stream",
     "text": [
      "Epoch 18/30, Train Loss: 1.0270, Test Accuracy: 0.5746\n"
     ]
    },
    {
     "name": "stderr",
     "output_type": "stream",
     "text": [
      "Epoch 19/30: 100%|█████████████████████| 120000/120000 [02:07<00:00, 941.90it/s]\n"
     ]
    },
    {
     "name": "stdout",
     "output_type": "stream",
     "text": [
      "Epoch 19/30, Train Loss: 1.0205, Test Accuracy: 0.5612\n"
     ]
    },
    {
     "name": "stderr",
     "output_type": "stream",
     "text": [
      "Epoch 20/30: 100%|█████████████████████| 120000/120000 [02:04<00:00, 961.77it/s]\n"
     ]
    },
    {
     "name": "stdout",
     "output_type": "stream",
     "text": [
      "Epoch 20/30, Train Loss: 1.0170, Test Accuracy: 0.5968\n"
     ]
    },
    {
     "name": "stderr",
     "output_type": "stream",
     "text": [
      "Epoch 21/30: 100%|█████████████████████| 120000/120000 [02:05<00:00, 953.85it/s]\n"
     ]
    },
    {
     "name": "stdout",
     "output_type": "stream",
     "text": [
      "Epoch 21/30, Train Loss: 1.0123, Test Accuracy: 0.5924\n"
     ]
    },
    {
     "name": "stderr",
     "output_type": "stream",
     "text": [
      "Epoch 22/30: 100%|█████████████████████| 120000/120000 [02:04<00:00, 961.16it/s]\n"
     ]
    },
    {
     "name": "stdout",
     "output_type": "stream",
     "text": [
      "Epoch 22/30, Train Loss: 1.0026, Test Accuracy: 0.6082\n"
     ]
    },
    {
     "name": "stderr",
     "output_type": "stream",
     "text": [
      "Epoch 23/30: 100%|█████████████████████| 120000/120000 [02:06<00:00, 949.57it/s]\n"
     ]
    },
    {
     "name": "stdout",
     "output_type": "stream",
     "text": [
      "Epoch 23/30, Train Loss: 1.0057, Test Accuracy: 0.6124\n"
     ]
    },
    {
     "name": "stderr",
     "output_type": "stream",
     "text": [
      "Epoch 24/30: 100%|█████████████████████| 120000/120000 [02:04<00:00, 966.26it/s]\n"
     ]
    },
    {
     "name": "stdout",
     "output_type": "stream",
     "text": [
      "Epoch 24/30, Train Loss: 0.9883, Test Accuracy: 0.5837\n"
     ]
    },
    {
     "name": "stderr",
     "output_type": "stream",
     "text": [
      "Epoch 25/30: 100%|█████████████████████| 120000/120000 [02:04<00:00, 961.24it/s]\n"
     ]
    },
    {
     "name": "stdout",
     "output_type": "stream",
     "text": [
      "Epoch 25/30, Train Loss: 0.9942, Test Accuracy: 0.6139\n"
     ]
    },
    {
     "name": "stderr",
     "output_type": "stream",
     "text": [
      "Epoch 26/30: 100%|█████████████████████| 120000/120000 [02:14<00:00, 894.69it/s]\n"
     ]
    },
    {
     "name": "stdout",
     "output_type": "stream",
     "text": [
      "Epoch 26/30, Train Loss: 0.9771, Test Accuracy: 0.6155\n"
     ]
    },
    {
     "name": "stderr",
     "output_type": "stream",
     "text": [
      "Epoch 27/30: 100%|█████████████████████| 120000/120000 [02:10<00:00, 918.69it/s]\n"
     ]
    },
    {
     "name": "stdout",
     "output_type": "stream",
     "text": [
      "Epoch 27/30, Train Loss: 0.9802, Test Accuracy: 0.5870\n"
     ]
    },
    {
     "name": "stderr",
     "output_type": "stream",
     "text": [
      "Epoch 28/30: 100%|█████████████████████| 120000/120000 [02:13<00:00, 898.40it/s]\n"
     ]
    },
    {
     "name": "stdout",
     "output_type": "stream",
     "text": [
      "Epoch 28/30, Train Loss: 0.9692, Test Accuracy: 0.6057\n"
     ]
    },
    {
     "name": "stderr",
     "output_type": "stream",
     "text": [
      "Epoch 29/30: 100%|█████████████████████| 120000/120000 [02:13<00:00, 902.09it/s]\n"
     ]
    },
    {
     "name": "stdout",
     "output_type": "stream",
     "text": [
      "Epoch 29/30, Train Loss: 0.9653, Test Accuracy: 0.6361\n"
     ]
    },
    {
     "name": "stderr",
     "output_type": "stream",
     "text": [
      "Epoch 30/30: 100%|█████████████████████| 120000/120000 [02:09<00:00, 928.44it/s]\n"
     ]
    },
    {
     "name": "stdout",
     "output_type": "stream",
     "text": [
      "Epoch 30/30, Train Loss: 0.9634, Test Accuracy: 0.6224\n"
     ]
    }
   ],
   "source": [
    "word_vectors_file = \"svd_word_vectors.pt\"\n",
    "train_file = \"data/train.csv\"\n",
    "test_file = \"data/test.csv\"\n",
    "svd_classifier = SVDClassifier(word_vectors_file)\n",
    "train_losses, test_accuracies = svd_classifier.train(train_file, test_file,num_samples=None, epochs=30)"
   ]
  },
  {
   "cell_type": "code",
   "execution_count": 9,
   "id": "c360b3b2",
   "metadata": {},
   "outputs": [
    {
     "name": "stderr",
     "output_type": "stream",
     "text": [
      "Testing:  38%|██████████▋                 | 2911/7600 [00:01<00:03, 1482.21it/s]IOPub message rate exceeded.\n",
      "The notebook server will temporarily stop sending output\n",
      "to the client in order to avoid crashing it.\n",
      "To change this limit, set the config variable\n",
      "`--NotebookApp.iopub_msg_rate_limit`.\n",
      "\n",
      "Current values:\n",
      "NotebookApp.iopub_msg_rate_limit=1000.0 (msgs/sec)\n",
      "NotebookApp.rate_limit_window=3.0 (secs)\n",
      "\n",
      "Testing: 100%|████████████████████████████| 7600/7600 [00:04<00:00, 1650.52it/s]\n"
     ]
    },
    {
     "name": "stdout",
     "output_type": "stream",
     "text": [
      "Test Accuracy: 0.6223684210526316\n"
     ]
    }
   ],
   "source": [
    "accuracy = svd_classifier.test(test_file)\n",
    "print(\"Test Accuracy:\", accuracy)"
   ]
  },
  {
   "cell_type": "code",
   "execution_count": 14,
   "id": "21035e3e",
   "metadata": {},
   "outputs": [
    {
     "name": "stderr",
     "output_type": "stream",
     "text": [
      "Epoch 1/30: 100%|█████████████████████| 120000/120000 [01:41<00:00, 1177.50it/s]\n"
     ]
    },
    {
     "name": "stdout",
     "output_type": "stream",
     "text": [
      "Epoch 1/30, Train Loss: 0.9679, Test Accuracy: 0.5954\n"
     ]
    },
    {
     "name": "stderr",
     "output_type": "stream",
     "text": [
      "Epoch 2/30: 100%|█████████████████████| 120000/120000 [01:47<00:00, 1114.62it/s]\n"
     ]
    },
    {
     "name": "stdout",
     "output_type": "stream",
     "text": [
      "Epoch 2/30, Train Loss: 0.9592, Test Accuracy: 0.6187\n"
     ]
    },
    {
     "name": "stderr",
     "output_type": "stream",
     "text": [
      "Epoch 3/30: 100%|█████████████████████| 120000/120000 [01:46<00:00, 1127.26it/s]\n"
     ]
    },
    {
     "name": "stdout",
     "output_type": "stream",
     "text": [
      "Epoch 3/30, Train Loss: 0.9638, Test Accuracy: 0.6116\n"
     ]
    },
    {
     "name": "stderr",
     "output_type": "stream",
     "text": [
      "Epoch 4/30: 100%|██████████████████████| 120000/120000 [02:06<00:00, 946.57it/s]\n"
     ]
    },
    {
     "name": "stdout",
     "output_type": "stream",
     "text": [
      "Epoch 4/30, Train Loss: 0.9511, Test Accuracy: 0.6039\n"
     ]
    },
    {
     "name": "stderr",
     "output_type": "stream",
     "text": [
      "Epoch 5/30: 100%|██████████████████████| 120000/120000 [02:12<00:00, 906.43it/s]\n"
     ]
    },
    {
     "name": "stdout",
     "output_type": "stream",
     "text": [
      "Epoch 5/30, Train Loss: 0.9544, Test Accuracy: 0.6170\n"
     ]
    },
    {
     "name": "stderr",
     "output_type": "stream",
     "text": [
      "Epoch 6/30: 100%|██████████████████████| 120000/120000 [04:34<00:00, 436.98it/s]\n"
     ]
    },
    {
     "name": "stdout",
     "output_type": "stream",
     "text": [
      "Epoch 6/30, Train Loss: 0.9449, Test Accuracy: 0.6263\n"
     ]
    },
    {
     "name": "stderr",
     "output_type": "stream",
     "text": [
      "Epoch 7/30: 100%|██████████████████████| 120000/120000 [07:44<00:00, 258.58it/s]\n"
     ]
    },
    {
     "name": "stdout",
     "output_type": "stream",
     "text": [
      "Epoch 7/30, Train Loss: 0.9496, Test Accuracy: 0.6395\n"
     ]
    },
    {
     "name": "stderr",
     "output_type": "stream",
     "text": [
      "Epoch 8/30: 100%|██████████████████████| 120000/120000 [03:42<00:00, 538.56it/s]\n"
     ]
    },
    {
     "name": "stdout",
     "output_type": "stream",
     "text": [
      "Epoch 8/30, Train Loss: 0.9423, Test Accuracy: 0.6175\n"
     ]
    },
    {
     "name": "stderr",
     "output_type": "stream",
     "text": [
      "Epoch 9/30: 100%|██████████████████████| 120000/120000 [04:19<00:00, 463.08it/s]\n"
     ]
    },
    {
     "name": "stdout",
     "output_type": "stream",
     "text": [
      "Epoch 9/30, Train Loss: 0.9416, Test Accuracy: 0.6305\n"
     ]
    },
    {
     "name": "stderr",
     "output_type": "stream",
     "text": [
      "Epoch 10/30: 100%|██████████████████████| 120000/120000 [43:25<00:00, 46.06it/s]\n"
     ]
    },
    {
     "name": "stdout",
     "output_type": "stream",
     "text": [
      "Epoch 10/30, Train Loss: 0.9284, Test Accuracy: 0.6205\n"
     ]
    },
    {
     "name": "stderr",
     "output_type": "stream",
     "text": [
      "Epoch 11/30: 100%|████████████████████| 120000/120000 [01:34<00:00, 1275.35it/s]\n"
     ]
    },
    {
     "name": "stdout",
     "output_type": "stream",
     "text": [
      "Epoch 11/30, Train Loss: 0.9281, Test Accuracy: 0.6241\n"
     ]
    },
    {
     "name": "stderr",
     "output_type": "stream",
     "text": [
      "Epoch 12/30: 100%|████████████████████| 120000/120000 [01:49<00:00, 1096.98it/s]\n"
     ]
    },
    {
     "name": "stdout",
     "output_type": "stream",
     "text": [
      "Epoch 12/30, Train Loss: 0.9290, Test Accuracy: 0.6422\n"
     ]
    },
    {
     "name": "stderr",
     "output_type": "stream",
     "text": [
      "Epoch 13/30: 100%|████████████████████| 120000/120000 [01:49<00:00, 1097.58it/s]\n"
     ]
    },
    {
     "name": "stdout",
     "output_type": "stream",
     "text": [
      "Epoch 13/30, Train Loss: 0.9259, Test Accuracy: 0.6205\n"
     ]
    },
    {
     "name": "stderr",
     "output_type": "stream",
     "text": [
      "Epoch 14/30: 100%|████████████████████| 120000/120000 [01:50<00:00, 1082.04it/s]\n"
     ]
    },
    {
     "name": "stdout",
     "output_type": "stream",
     "text": [
      "Epoch 14/30, Train Loss: 0.9286, Test Accuracy: 0.6301\n"
     ]
    },
    {
     "name": "stderr",
     "output_type": "stream",
     "text": [
      "Epoch 15/30: 100%|████████████████████| 120000/120000 [01:48<00:00, 1104.65it/s]\n"
     ]
    },
    {
     "name": "stdout",
     "output_type": "stream",
     "text": [
      "Epoch 15/30, Train Loss: 0.9160, Test Accuracy: 0.6470\n"
     ]
    },
    {
     "name": "stderr",
     "output_type": "stream",
     "text": [
      "Epoch 16/30: 100%|█████████████████████| 120000/120000 [02:00<00:00, 997.73it/s]\n"
     ]
    },
    {
     "name": "stdout",
     "output_type": "stream",
     "text": [
      "Epoch 16/30, Train Loss: 0.9212, Test Accuracy: 0.6459\n"
     ]
    },
    {
     "name": "stderr",
     "output_type": "stream",
     "text": [
      "Epoch 17/30: 100%|████████████████████| 120000/120000 [01:58<00:00, 1014.50it/s]\n"
     ]
    },
    {
     "name": "stdout",
     "output_type": "stream",
     "text": [
      "Epoch 17/30, Train Loss: 0.9390, Test Accuracy: 0.6342\n"
     ]
    },
    {
     "name": "stderr",
     "output_type": "stream",
     "text": [
      "Epoch 18/30: 100%|████████████████████| 120000/120000 [01:59<00:00, 1004.53it/s]\n"
     ]
    },
    {
     "name": "stdout",
     "output_type": "stream",
     "text": [
      "Epoch 18/30, Train Loss: 0.9148, Test Accuracy: 0.6387\n"
     ]
    },
    {
     "name": "stderr",
     "output_type": "stream",
     "text": [
      "Epoch 19/30: 100%|█████████████████████| 120000/120000 [02:00<00:00, 996.51it/s]\n"
     ]
    },
    {
     "name": "stdout",
     "output_type": "stream",
     "text": [
      "Epoch 19/30, Train Loss: 0.9113, Test Accuracy: 0.6266\n"
     ]
    },
    {
     "name": "stderr",
     "output_type": "stream",
     "text": [
      "Epoch 20/30: 100%|█████████████████████| 120000/120000 [02:16<00:00, 878.91it/s]\n"
     ]
    },
    {
     "name": "stdout",
     "output_type": "stream",
     "text": [
      "Epoch 20/30, Train Loss: 0.9208, Test Accuracy: 0.6396\n"
     ]
    },
    {
     "name": "stderr",
     "output_type": "stream",
     "text": [
      "Epoch 21/30: 100%|█████████████████████| 120000/120000 [02:14<00:00, 893.15it/s]\n"
     ]
    },
    {
     "name": "stdout",
     "output_type": "stream",
     "text": [
      "Epoch 21/30, Train Loss: 0.9181, Test Accuracy: 0.6180\n"
     ]
    },
    {
     "name": "stderr",
     "output_type": "stream",
     "text": [
      "Epoch 22/30: 100%|█████████████████████| 120000/120000 [02:14<00:00, 890.53it/s]\n"
     ]
    },
    {
     "name": "stdout",
     "output_type": "stream",
     "text": [
      "Epoch 22/30, Train Loss: 0.9120, Test Accuracy: 0.6562\n"
     ]
    },
    {
     "name": "stderr",
     "output_type": "stream",
     "text": [
      "Epoch 23/30: 100%|█████████████████████| 120000/120000 [02:26<00:00, 817.51it/s]\n"
     ]
    },
    {
     "name": "stdout",
     "output_type": "stream",
     "text": [
      "Epoch 23/30, Train Loss: 0.9077, Test Accuracy: 0.6550\n"
     ]
    },
    {
     "name": "stderr",
     "output_type": "stream",
     "text": [
      "Epoch 24/30: 100%|█████████████████████| 120000/120000 [02:24<00:00, 833.16it/s]\n"
     ]
    },
    {
     "name": "stdout",
     "output_type": "stream",
     "text": [
      "Epoch 24/30, Train Loss: 0.9022, Test Accuracy: 0.6482\n"
     ]
    },
    {
     "name": "stderr",
     "output_type": "stream",
     "text": [
      "Epoch 25/30: 100%|█████████████████████| 120000/120000 [02:10<00:00, 918.18it/s]\n"
     ]
    },
    {
     "name": "stdout",
     "output_type": "stream",
     "text": [
      "Epoch 25/30, Train Loss: 0.9000, Test Accuracy: 0.6487\n"
     ]
    },
    {
     "name": "stderr",
     "output_type": "stream",
     "text": [
      "Epoch 26/30: 100%|█████████████████████| 120000/120000 [02:13<00:00, 900.06it/s]\n"
     ]
    },
    {
     "name": "stdout",
     "output_type": "stream",
     "text": [
      "Epoch 26/30, Train Loss: 0.8985, Test Accuracy: 0.6592\n"
     ]
    },
    {
     "name": "stderr",
     "output_type": "stream",
     "text": [
      "Epoch 27/30: 100%|█████████████████████| 120000/120000 [02:21<00:00, 847.82it/s]\n"
     ]
    },
    {
     "name": "stdout",
     "output_type": "stream",
     "text": [
      "Epoch 27/30, Train Loss: 0.8981, Test Accuracy: 0.6389\n"
     ]
    },
    {
     "name": "stderr",
     "output_type": "stream",
     "text": [
      "Epoch 28/30: 100%|█████████████████████| 120000/120000 [02:24<00:00, 829.66it/s]\n"
     ]
    },
    {
     "name": "stdout",
     "output_type": "stream",
     "text": [
      "Epoch 28/30, Train Loss: 0.8962, Test Accuracy: 0.6576\n"
     ]
    },
    {
     "name": "stderr",
     "output_type": "stream",
     "text": [
      "Epoch 29/30: 100%|█████████████████████| 120000/120000 [02:25<00:00, 825.60it/s]\n"
     ]
    },
    {
     "name": "stdout",
     "output_type": "stream",
     "text": [
      "Epoch 29/30, Train Loss: 0.8895, Test Accuracy: 0.6639\n"
     ]
    },
    {
     "name": "stderr",
     "output_type": "stream",
     "text": [
      "Epoch 30/30: 100%|█████████████████████| 120000/120000 [02:26<00:00, 820.07it/s]\n"
     ]
    },
    {
     "name": "stdout",
     "output_type": "stream",
     "text": [
      "Epoch 30/30, Train Loss: 0.8992, Test Accuracy: 0.6511\n"
     ]
    }
   ],
   "source": [
    "new_train_losses, new_test_accuracies = svd_classifier.train(train_file, test_file,num_samples=None, epochs=30)"
   ]
  },
  {
   "cell_type": "code",
   "execution_count": 15,
   "id": "93e0172f",
   "metadata": {},
   "outputs": [
    {
     "name": "stdout",
     "output_type": "stream",
     "text": [
      "Train Losses: [0.9678528982470115, 0.9592357043679233, 0.963831799296987, 0.9510779040596042, 0.9543613822164244, 0.94492681563708, 0.949636579936806, 0.9422730533835092, 0.9416138626593246, 0.9283593326553107, 0.9281000342751268, 0.9290052500246297, 0.9258940331773531, 0.9286035618977053, 0.9160367057205964, 0.921181189148617, 0.9390360461639399, 0.9147918351107607, 0.9113090302782102, 0.9207529346615869, 0.9180920034519074, 0.9119872084254478, 0.9076967868652928, 0.9022340113365411, 0.899988057517223, 0.8984835013049863, 0.8981478054498997, 0.8961567221176256, 0.889503527512411, 0.8992308918277871]\n",
      "Test Accuracies: [0.5953947368421053, 0.6186842105263158, 0.611578947368421, 0.6039473684210527, 0.6169736842105263, 0.6263157894736842, 0.6394736842105263, 0.6175, 0.6305263157894737, 0.6205263157894737, 0.6240789473684211, 0.6422368421052631, 0.6205263157894737, 0.6301315789473684, 0.6469736842105264, 0.645921052631579, 0.6342105263157894, 0.6386842105263157, 0.626578947368421, 0.6396052631578948, 0.6180263157894736, 0.6561842105263158, 0.655, 0.6481578947368422, 0.6486842105263158, 0.6592105263157895, 0.6389473684210526, 0.6576315789473685, 0.6639473684210526, 0.6510526315789473]\n"
     ]
    }
   ],
   "source": [
    "print(\"Train Losses:\", new_train_losses)\n",
    "print(\"Test Accuracies:\", new_test_accuracies)"
   ]
  },
  {
   "cell_type": "code",
   "execution_count": 17,
   "id": "c1b52559",
   "metadata": {},
   "outputs": [],
   "source": [
    "def save_model(model, save_path):\n",
    "    torch.save(model, save_path)\n",
    "\n",
    "save_model(SVDClassifier, \"svd-classification-model.pt\")\n"
   ]
  },
  {
   "cell_type": "code",
   "execution_count": 20,
   "id": "9eb5435c",
   "metadata": {},
   "outputs": [
    {
     "name": "stdout",
     "output_type": "stream",
     "text": [
      "Unique Labels: [3 4 2 1]\n"
     ]
    }
   ],
   "source": [
    "data = pd.read_csv(train_file)\n",
    "labels = data['Class Index']\n",
    "unique_labels = labels.unique()\n",
    "print(\"Unique Labels:\", unique_labels)\n"
   ]
  },
  {
   "cell_type": "code",
   "execution_count": 32,
   "id": "eb7150df",
   "metadata": {},
   "outputs": [
    {
     "name": "stderr",
     "output_type": "stream",
     "text": [
      "Epoch 1/50: 100%|█████████████████████| 120000/120000 [01:29<00:00, 1340.82it/s]\n"
     ]
    },
    {
     "name": "stdout",
     "output_type": "stream",
     "text": [
      "Epoch 1/50, Train Loss: 1.3192, Test Accuracy: 0.4093\n"
     ]
    },
    {
     "name": "stderr",
     "output_type": "stream",
     "text": [
      "Epoch 2/50: 100%|█████████████████████| 120000/120000 [01:33<00:00, 1283.99it/s]\n"
     ]
    },
    {
     "name": "stdout",
     "output_type": "stream",
     "text": [
      "Epoch 2/50, Train Loss: 1.2407, Test Accuracy: 0.4591\n"
     ]
    },
    {
     "name": "stderr",
     "output_type": "stream",
     "text": [
      "Epoch 3/50: 100%|█████████████████████| 120000/120000 [01:38<00:00, 1217.67it/s]\n"
     ]
    },
    {
     "name": "stdout",
     "output_type": "stream",
     "text": [
      "Epoch 3/50, Train Loss: 1.2160, Test Accuracy: 0.4733\n"
     ]
    },
    {
     "name": "stderr",
     "output_type": "stream",
     "text": [
      "Epoch 4/50: 100%|█████████████████████| 120000/120000 [01:37<00:00, 1224.82it/s]\n"
     ]
    },
    {
     "name": "stdout",
     "output_type": "stream",
     "text": [
      "Epoch 4/50, Train Loss: 1.1887, Test Accuracy: 0.4601\n"
     ]
    },
    {
     "name": "stderr",
     "output_type": "stream",
     "text": [
      "Epoch 5/50: 100%|█████████████████████| 120000/120000 [01:39<00:00, 1209.94it/s]\n"
     ]
    },
    {
     "name": "stdout",
     "output_type": "stream",
     "text": [
      "Epoch 5/50, Train Loss: 1.1781, Test Accuracy: 0.5020\n"
     ]
    },
    {
     "name": "stderr",
     "output_type": "stream",
     "text": [
      "Epoch 6/50: 100%|█████████████████████| 120000/120000 [01:41<00:00, 1179.55it/s]\n"
     ]
    },
    {
     "name": "stdout",
     "output_type": "stream",
     "text": [
      "Epoch 6/50, Train Loss: 1.1513, Test Accuracy: 0.5062\n"
     ]
    },
    {
     "name": "stderr",
     "output_type": "stream",
     "text": [
      "Epoch 7/50: 100%|█████████████████████| 120000/120000 [01:40<00:00, 1195.27it/s]\n"
     ]
    },
    {
     "name": "stdout",
     "output_type": "stream",
     "text": [
      "Epoch 7/50, Train Loss: 1.1461, Test Accuracy: 0.5082\n"
     ]
    },
    {
     "name": "stderr",
     "output_type": "stream",
     "text": [
      "Epoch 8/50: 100%|█████████████████████| 120000/120000 [01:44<00:00, 1145.15it/s]\n"
     ]
    },
    {
     "name": "stdout",
     "output_type": "stream",
     "text": [
      "Epoch 8/50, Train Loss: 1.1243, Test Accuracy: 0.5403\n"
     ]
    },
    {
     "name": "stderr",
     "output_type": "stream",
     "text": [
      "Epoch 9/50: 100%|█████████████████████| 120000/120000 [01:39<00:00, 1201.15it/s]\n"
     ]
    },
    {
     "name": "stdout",
     "output_type": "stream",
     "text": [
      "Epoch 9/50, Train Loss: 1.1083, Test Accuracy: 0.5414\n"
     ]
    },
    {
     "name": "stderr",
     "output_type": "stream",
     "text": [
      "Epoch 10/50: 100%|████████████████████| 120000/120000 [01:39<00:00, 1202.66it/s]\n"
     ]
    },
    {
     "name": "stdout",
     "output_type": "stream",
     "text": [
      "Epoch 10/50, Train Loss: 1.1068, Test Accuracy: 0.5229\n"
     ]
    },
    {
     "name": "stderr",
     "output_type": "stream",
     "text": [
      "Epoch 11/50: 100%|████████████████████| 120000/120000 [01:40<00:00, 1199.84it/s]\n"
     ]
    },
    {
     "name": "stdout",
     "output_type": "stream",
     "text": [
      "Epoch 11/50, Train Loss: 1.0885, Test Accuracy: 0.5453\n"
     ]
    },
    {
     "name": "stderr",
     "output_type": "stream",
     "text": [
      "Epoch 12/50: 100%|████████████████████| 120000/120000 [01:40<00:00, 1193.26it/s]\n"
     ]
    },
    {
     "name": "stdout",
     "output_type": "stream",
     "text": [
      "Epoch 12/50, Train Loss: 1.0801, Test Accuracy: 0.5320\n"
     ]
    },
    {
     "name": "stderr",
     "output_type": "stream",
     "text": [
      "Epoch 13/50: 100%|████████████████████| 120000/120000 [01:48<00:00, 1105.96it/s]\n"
     ]
    },
    {
     "name": "stdout",
     "output_type": "stream",
     "text": [
      "Epoch 13/50, Train Loss: 1.0697, Test Accuracy: 0.5736\n"
     ]
    },
    {
     "name": "stderr",
     "output_type": "stream",
     "text": [
      "Epoch 14/50: 100%|█████████████████████| 120000/120000 [02:11<00:00, 911.00it/s]\n"
     ]
    },
    {
     "name": "stdout",
     "output_type": "stream",
     "text": [
      "Epoch 14/50, Train Loss: 1.0705, Test Accuracy: 0.5628\n"
     ]
    },
    {
     "name": "stderr",
     "output_type": "stream",
     "text": [
      "Epoch 15/50: 100%|█████████████████████| 120000/120000 [02:03<00:00, 971.71it/s]\n"
     ]
    },
    {
     "name": "stdout",
     "output_type": "stream",
     "text": [
      "Epoch 15/50, Train Loss: 1.0432, Test Accuracy: 0.5518\n"
     ]
    },
    {
     "name": "stderr",
     "output_type": "stream",
     "text": [
      "Epoch 16/50: 100%|████████████████████| 120000/120000 [01:56<00:00, 1029.06it/s]\n"
     ]
    },
    {
     "name": "stdout",
     "output_type": "stream",
     "text": [
      "Epoch 16/50, Train Loss: 1.0486, Test Accuracy: 0.5638\n"
     ]
    },
    {
     "name": "stderr",
     "output_type": "stream",
     "text": [
      "Epoch 17/50: 100%|████████████████████| 120000/120000 [01:57<00:00, 1018.87it/s]\n"
     ]
    },
    {
     "name": "stdout",
     "output_type": "stream",
     "text": [
      "Epoch 17/50, Train Loss: 1.0409, Test Accuracy: 0.5630\n"
     ]
    },
    {
     "name": "stderr",
     "output_type": "stream",
     "text": [
      "Epoch 18/50: 100%|█████████████████████| 120000/120000 [02:02<00:00, 980.92it/s]\n"
     ]
    },
    {
     "name": "stdout",
     "output_type": "stream",
     "text": [
      "Epoch 18/50, Train Loss: 1.0364, Test Accuracy: 0.5516\n"
     ]
    },
    {
     "name": "stderr",
     "output_type": "stream",
     "text": [
      "Epoch 19/50: 100%|████████████████████| 120000/120000 [01:59<00:00, 1000.48it/s]\n"
     ]
    },
    {
     "name": "stdout",
     "output_type": "stream",
     "text": [
      "Epoch 19/50, Train Loss: 1.0341, Test Accuracy: 0.5741\n"
     ]
    },
    {
     "name": "stderr",
     "output_type": "stream",
     "text": [
      "Epoch 20/50: 100%|█████████████████████| 120000/120000 [02:03<00:00, 972.84it/s]\n"
     ]
    },
    {
     "name": "stdout",
     "output_type": "stream",
     "text": [
      "Epoch 20/50, Train Loss: 1.0150, Test Accuracy: 0.5941\n"
     ]
    },
    {
     "name": "stderr",
     "output_type": "stream",
     "text": [
      "Epoch 21/50: 100%|█████████████████████| 120000/120000 [02:02<00:00, 982.54it/s]\n"
     ]
    },
    {
     "name": "stdout",
     "output_type": "stream",
     "text": [
      "Epoch 21/50, Train Loss: 1.0125, Test Accuracy: 0.5441\n"
     ]
    },
    {
     "name": "stderr",
     "output_type": "stream",
     "text": [
      "Epoch 22/50: 100%|█████████████████████| 120000/120000 [02:08<00:00, 932.69it/s]\n"
     ]
    },
    {
     "name": "stdout",
     "output_type": "stream",
     "text": [
      "Epoch 22/50, Train Loss: 1.0272, Test Accuracy: 0.5828\n"
     ]
    },
    {
     "name": "stderr",
     "output_type": "stream",
     "text": [
      "Epoch 23/50: 100%|█████████████████████| 120000/120000 [02:04<00:00, 960.66it/s]\n"
     ]
    },
    {
     "name": "stdout",
     "output_type": "stream",
     "text": [
      "Epoch 23/50, Train Loss: 1.0097, Test Accuracy: 0.6054\n"
     ]
    },
    {
     "name": "stderr",
     "output_type": "stream",
     "text": [
      "Epoch 24/50: 100%|█████████████████████| 120000/120000 [02:02<00:00, 978.74it/s]\n"
     ]
    },
    {
     "name": "stdout",
     "output_type": "stream",
     "text": [
      "Epoch 24/50, Train Loss: 0.9958, Test Accuracy: 0.5857\n"
     ]
    },
    {
     "name": "stderr",
     "output_type": "stream",
     "text": [
      "Epoch 25/50: 100%|█████████████████████| 120000/120000 [02:06<00:00, 950.94it/s]\n"
     ]
    },
    {
     "name": "stdout",
     "output_type": "stream",
     "text": [
      "Epoch 25/50, Train Loss: 0.9901, Test Accuracy: 0.6005\n"
     ]
    },
    {
     "name": "stderr",
     "output_type": "stream",
     "text": [
      "Epoch 26/50: 100%|████████████████████| 120000/120000 [01:56<00:00, 1029.01it/s]\n"
     ]
    },
    {
     "name": "stdout",
     "output_type": "stream",
     "text": [
      "Epoch 26/50, Train Loss: 0.9869, Test Accuracy: 0.5543\n"
     ]
    },
    {
     "name": "stderr",
     "output_type": "stream",
     "text": [
      "Epoch 27/50: 100%|█████████████████████| 120000/120000 [02:01<00:00, 987.35it/s]\n"
     ]
    },
    {
     "name": "stdout",
     "output_type": "stream",
     "text": [
      "Epoch 27/50, Train Loss: 0.9877, Test Accuracy: 0.5655\n"
     ]
    },
    {
     "name": "stderr",
     "output_type": "stream",
     "text": [
      "Epoch 28/50: 100%|█████████████████████| 120000/120000 [02:01<00:00, 989.06it/s]\n"
     ]
    },
    {
     "name": "stdout",
     "output_type": "stream",
     "text": [
      "Epoch 28/50, Train Loss: 0.9838, Test Accuracy: 0.5828\n"
     ]
    },
    {
     "name": "stderr",
     "output_type": "stream",
     "text": [
      "Epoch 29/50: 100%|█████████████████████| 120000/120000 [02:01<00:00, 988.70it/s]\n"
     ]
    },
    {
     "name": "stdout",
     "output_type": "stream",
     "text": [
      "Epoch 29/50, Train Loss: 0.9853, Test Accuracy: 0.5936\n"
     ]
    },
    {
     "name": "stderr",
     "output_type": "stream",
     "text": [
      "Epoch 30/50: 100%|█████████████████████| 120000/120000 [02:00<00:00, 998.36it/s]\n"
     ]
    },
    {
     "name": "stdout",
     "output_type": "stream",
     "text": [
      "Epoch 30/50, Train Loss: 0.9760, Test Accuracy: 0.6179\n"
     ]
    },
    {
     "name": "stderr",
     "output_type": "stream",
     "text": [
      "Epoch 31/50: 100%|█████████████████████| 120000/120000 [02:00<00:00, 993.78it/s]\n"
     ]
    },
    {
     "name": "stdout",
     "output_type": "stream",
     "text": [
      "Epoch 31/50, Train Loss: 0.9699, Test Accuracy: 0.6091\n"
     ]
    },
    {
     "name": "stderr",
     "output_type": "stream",
     "text": [
      "Epoch 32/50: 100%|█████████████████████| 120000/120000 [02:02<00:00, 979.70it/s]\n"
     ]
    },
    {
     "name": "stdout",
     "output_type": "stream",
     "text": [
      "Epoch 32/50, Train Loss: 0.9652, Test Accuracy: 0.5976\n"
     ]
    },
    {
     "name": "stderr",
     "output_type": "stream",
     "text": [
      "Epoch 33/50: 100%|█████████████████████| 120000/120000 [02:02<00:00, 982.02it/s]\n"
     ]
    },
    {
     "name": "stdout",
     "output_type": "stream",
     "text": [
      "Epoch 33/50, Train Loss: 0.9546, Test Accuracy: 0.6349\n"
     ]
    },
    {
     "name": "stderr",
     "output_type": "stream",
     "text": [
      "Epoch 34/50: 100%|█████████████████████| 120000/120000 [02:05<00:00, 956.45it/s]\n"
     ]
    },
    {
     "name": "stdout",
     "output_type": "stream",
     "text": [
      "Epoch 34/50, Train Loss: 0.9522, Test Accuracy: 0.6330\n"
     ]
    },
    {
     "name": "stderr",
     "output_type": "stream",
     "text": [
      "Epoch 35/50: 100%|█████████████████████| 120000/120000 [02:08<00:00, 936.35it/s]\n"
     ]
    },
    {
     "name": "stdout",
     "output_type": "stream",
     "text": [
      "Epoch 35/50, Train Loss: 0.9479, Test Accuracy: 0.6157\n"
     ]
    },
    {
     "name": "stderr",
     "output_type": "stream",
     "text": [
      "Epoch 36/50: 100%|█████████████████████| 120000/120000 [02:03<00:00, 967.89it/s]\n"
     ]
    },
    {
     "name": "stdout",
     "output_type": "stream",
     "text": [
      "Epoch 36/50, Train Loss: 0.9459, Test Accuracy: 0.5983\n"
     ]
    },
    {
     "name": "stderr",
     "output_type": "stream",
     "text": [
      "Epoch 37/50: 100%|█████████████████████| 120000/120000 [02:05<00:00, 959.15it/s]\n"
     ]
    },
    {
     "name": "stdout",
     "output_type": "stream",
     "text": [
      "Epoch 37/50, Train Loss: 0.9441, Test Accuracy: 0.6158\n"
     ]
    },
    {
     "name": "stderr",
     "output_type": "stream",
     "text": [
      "Epoch 38/50: 100%|█████████████████████| 120000/120000 [02:07<00:00, 944.04it/s]\n"
     ]
    },
    {
     "name": "stdout",
     "output_type": "stream",
     "text": [
      "Epoch 38/50, Train Loss: 0.9541, Test Accuracy: 0.6412\n"
     ]
    },
    {
     "name": "stderr",
     "output_type": "stream",
     "text": [
      "Epoch 39/50: 100%|█████████████████████| 120000/120000 [02:01<00:00, 987.77it/s]\n"
     ]
    },
    {
     "name": "stdout",
     "output_type": "stream",
     "text": [
      "Epoch 39/50, Train Loss: 0.9410, Test Accuracy: 0.6358\n"
     ]
    },
    {
     "name": "stderr",
     "output_type": "stream",
     "text": [
      "Epoch 40/50: 100%|████████████████████| 120000/120000 [01:59<00:00, 1006.87it/s]\n"
     ]
    },
    {
     "name": "stdout",
     "output_type": "stream",
     "text": [
      "Epoch 40/50, Train Loss: 0.9387, Test Accuracy: 0.6216\n"
     ]
    },
    {
     "name": "stderr",
     "output_type": "stream",
     "text": [
      "Epoch 41/50: 100%|█████████████████████| 120000/120000 [02:01<00:00, 987.55it/s]\n"
     ]
    },
    {
     "name": "stdout",
     "output_type": "stream",
     "text": [
      "Epoch 41/50, Train Loss: 0.9353, Test Accuracy: 0.6483\n"
     ]
    },
    {
     "name": "stderr",
     "output_type": "stream",
     "text": [
      "Epoch 42/50: 100%|█████████████████████| 120000/120000 [02:01<00:00, 988.64it/s]\n"
     ]
    },
    {
     "name": "stdout",
     "output_type": "stream",
     "text": [
      "Epoch 42/50, Train Loss: 0.9286, Test Accuracy: 0.6442\n"
     ]
    },
    {
     "name": "stderr",
     "output_type": "stream",
     "text": [
      "Epoch 43/50: 100%|█████████████████████| 120000/120000 [02:05<00:00, 959.98it/s]\n"
     ]
    },
    {
     "name": "stdout",
     "output_type": "stream",
     "text": [
      "Epoch 43/50, Train Loss: 0.9265, Test Accuracy: 0.6191\n"
     ]
    },
    {
     "name": "stderr",
     "output_type": "stream",
     "text": [
      "Epoch 44/50: 100%|█████████████████████| 120000/120000 [02:10<00:00, 917.65it/s]\n"
     ]
    },
    {
     "name": "stdout",
     "output_type": "stream",
     "text": [
      "Epoch 44/50, Train Loss: 0.9276, Test Accuracy: 0.6413\n"
     ]
    },
    {
     "name": "stderr",
     "output_type": "stream",
     "text": [
      "Epoch 45/50: 100%|█████████████████████| 120000/120000 [02:00<00:00, 992.72it/s]\n"
     ]
    },
    {
     "name": "stdout",
     "output_type": "stream",
     "text": [
      "Epoch 45/50, Train Loss: 0.9269, Test Accuracy: 0.6175\n"
     ]
    },
    {
     "name": "stderr",
     "output_type": "stream",
     "text": [
      "Epoch 46/50: 100%|█████████████████████| 120000/120000 [02:01<00:00, 990.66it/s]\n"
     ]
    },
    {
     "name": "stdout",
     "output_type": "stream",
     "text": [
      "Epoch 46/50, Train Loss: 0.9241, Test Accuracy: 0.6462\n"
     ]
    },
    {
     "name": "stderr",
     "output_type": "stream",
     "text": [
      "Epoch 47/50: 100%|█████████████████████| 120000/120000 [02:11<00:00, 910.02it/s]\n"
     ]
    },
    {
     "name": "stdout",
     "output_type": "stream",
     "text": [
      "Epoch 47/50, Train Loss: 0.9163, Test Accuracy: 0.6292\n"
     ]
    },
    {
     "name": "stderr",
     "output_type": "stream",
     "text": [
      "Epoch 48/50: 100%|█████████████████████| 120000/120000 [02:02<00:00, 982.27it/s]\n"
     ]
    },
    {
     "name": "stdout",
     "output_type": "stream",
     "text": [
      "Epoch 48/50, Train Loss: 0.9160, Test Accuracy: 0.6297\n"
     ]
    },
    {
     "name": "stderr",
     "output_type": "stream",
     "text": [
      "Epoch 49/50: 100%|█████████████████████| 120000/120000 [02:15<00:00, 887.20it/s]\n"
     ]
    },
    {
     "name": "stdout",
     "output_type": "stream",
     "text": [
      "Epoch 49/50, Train Loss: 0.9184, Test Accuracy: 0.6443\n"
     ]
    },
    {
     "name": "stderr",
     "output_type": "stream",
     "text": [
      "Epoch 50/50: 100%|█████████████████████| 120000/120000 [02:08<00:00, 931.47it/s]\n"
     ]
    },
    {
     "name": "stdout",
     "output_type": "stream",
     "text": [
      "Epoch 50/50, Train Loss: 0.9160, Test Accuracy: 0.6401\n"
     ]
    }
   ],
   "source": [
    "word_vectors_file = \"svd_word_vectors.pt\"\n",
    "train_file = \"data/train.csv\"\n",
    "test_file = \"data/test.csv\"\n",
    "svd_classifier = SVDClassifier(word_vectors_file,num_classes = 4)\n",
    "train_losses, test_accuracies = svd_classifier.train(train_file, test_file,num_samples=None, epochs=50)"
   ]
  },
  {
   "cell_type": "code",
   "execution_count": 34,
   "id": "4d73ac29",
   "metadata": {},
   "outputs": [
    {
     "name": "stdout",
     "output_type": "stream",
     "text": [
      "Train Losses:  [1.319185847759588, 1.2406862185075127, 1.216024565227031, 1.1887025144385597, 1.1781422953819378, 1.151263598163091, 1.1460754629647742, 1.1242575633420362, 1.1082911797410817, 1.1067875672942984, 1.0885173919599287, 1.0800731354264543, 1.069661087381027, 1.070523568970037, 1.0432168941397053, 1.0486222660589453, 1.040889349045037, 1.0363616567934233, 1.0341057445957473, 1.0150033496369617, 1.0124590747318527, 1.0272043311694758, 1.0097269293994717, 0.9958120048182312, 0.9900760842635248, 0.986909789561388, 0.9876885674911405, 0.98384367720873, 0.9852648492087286, 0.9760174684975027, 0.9699258208847609, 0.965167124263303, 0.9545857548875396, 0.9521839107739805, 0.9478591730243827, 0.9458965884875734, 0.944070828191885, 0.9541106852967022, 0.941003862383826, 0.9386573875013308, 0.9353363515495594, 0.92862868745686, 0.9265108505553246, 0.927594084163119, 0.9269413372618222, 0.9240570746436421, 0.9163133149095473, 0.9160197858729028, 0.918394304872786, 0.9160192734322951]\n",
      "Test Accuracies:  [0.4093421052631579, 0.45907894736842103, 0.47328947368421054, 0.46013157894736845, 0.5019736842105263, 0.5061842105263158, 0.5081578947368421, 0.5402631578947369, 0.5414473684210527, 0.5228947368421053, 0.5452631578947369, 0.5319736842105263, 0.5735526315789473, 0.5627631578947369, 0.5518421052631579, 0.5638157894736842, 0.5630263157894737, 0.5515789473684211, 0.574078947368421, 0.594078947368421, 0.5440789473684211, 0.5827631578947369, 0.6053947368421052, 0.5856578947368422, 0.6005263157894737, 0.5543421052631579, 0.5655263157894737, 0.5827631578947369, 0.5935526315789473, 0.6178947368421053, 0.609078947368421, 0.5976315789473684, 0.6348684210526315, 0.6330263157894737, 0.6156578947368421, 0.5982894736842105, 0.6157894736842106, 0.6411842105263158, 0.6357894736842106, 0.621578947368421, 0.6482894736842105, 0.6442105263157895, 0.6190789473684211, 0.6413157894736842, 0.6175, 0.6461842105263158, 0.6292105263157894, 0.6297368421052632, 0.6443421052631579, 0.6401315789473684]\n",
      "svd_classifier :  <__main__.SVDClassifier object at 0x294ff7910>\n",
      "model :  LSTMClassifier(\n",
      "  (lstm): LSTM(100, 128, batch_first=True)\n",
      "  (fc): Linear(in_features=128, out_features=4, bias=True)\n",
      ")\n"
     ]
    }
   ],
   "source": [
    "print(\"Train Losses : \", train_losses)\n",
    "print(\"Test Accuracies : \", test_accuracies)\n",
    "print(\"svd_classifier : \", svd_classifier)\n",
    "print(\"model : \", svd_classifier.lstm_model)"
   ]
  },
  {
   "cell_type": "code",
   "execution_count": 42,
   "id": "c37b6ca2",
   "metadata": {},
   "outputs": [],
   "source": [
    "def save_model(model, save_path):\n",
    "    torch.save(model, save_path)\n",
    "\n",
    "save_model(svd_classifier, \"svd-classification-model.pt\")"
   ]
  },
  {
   "cell_type": "code",
   "execution_count": 43,
   "id": "3619ea0c",
   "metadata": {},
   "outputs": [
    {
     "name": "stdout",
     "output_type": "stream",
     "text": [
      "LSTMClassifier(\n",
      "  (lstm): LSTM(100, 128, batch_first=True)\n",
      "  (fc): Linear(in_features=128, out_features=4, bias=True)\n",
      ")\n"
     ]
    },
    {
     "name": "stderr",
     "output_type": "stream",
     "text": [
      "Testing:  37%|██████████▍                 | 2820/7600 [00:01<00:02, 1910.45it/s]IOPub message rate exceeded.\n",
      "The notebook server will temporarily stop sending output\n",
      "to the client in order to avoid crashing it.\n",
      "To change this limit, set the config variable\n",
      "`--NotebookApp.iopub_msg_rate_limit`.\n",
      "\n",
      "Current values:\n",
      "NotebookApp.iopub_msg_rate_limit=1000.0 (msgs/sec)\n",
      "NotebookApp.rate_limit_window=3.0 (secs)\n",
      "\n",
      "Testing: 100%|████████████████████████████| 7600/7600 [00:03<00:00, 2093.98it/s]\n"
     ]
    },
    {
     "name": "stdout",
     "output_type": "stream",
     "text": [
      "Test Accuracy: 0.6401315789473684\n"
     ]
    }
   ],
   "source": [
    "# Load the saved model\n",
    "loaded_model = torch.load(\"svd-classification-model.pt\")\n",
    "test_file = \"data/test.csv\"\n",
    "print(loaded_model.lstm_model)\n",
    "# Provide the test_file argument when calling the test method\n",
    "test_accuracy = loaded_model.test(test_file)\n",
    "print(\"Test Accuracy:\", test_accuracy)"
   ]
  },
  {
   "cell_type": "code",
   "execution_count": null,
   "id": "4d5ada49",
   "metadata": {},
   "outputs": [],
   "source": []
  },
  {
   "cell_type": "code",
   "execution_count": null,
   "id": "3da22eef",
   "metadata": {},
   "outputs": [],
   "source": []
  },
  {
   "cell_type": "code",
   "execution_count": null,
   "id": "4a2c2e60",
   "metadata": {},
   "outputs": [],
   "source": []
  },
  {
   "cell_type": "code",
   "execution_count": null,
   "id": "7c956333",
   "metadata": {},
   "outputs": [],
   "source": []
  }
 ],
 "metadata": {
  "kernelspec": {
   "display_name": "Python 3 (ipykernel)",
   "language": "python",
   "name": "python3"
  },
  "language_info": {
   "codemirror_mode": {
    "name": "ipython",
    "version": 3
   },
   "file_extension": ".py",
   "mimetype": "text/x-python",
   "name": "python",
   "nbconvert_exporter": "python",
   "pygments_lexer": "ipython3",
   "version": "3.11.6"
  }
 },
 "nbformat": 4,
 "nbformat_minor": 5
}
